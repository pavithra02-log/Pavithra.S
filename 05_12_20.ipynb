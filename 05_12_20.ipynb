{
  "nbformat": 4,
  "nbformat_minor": 0,
  "metadata": {
    "colab": {
      "name": "05-12-20.ipynb",
      "provenance": [],
      "collapsed_sections": []
    },
    "kernelspec": {
      "name": "python3",
      "display_name": "Python 3"
    }
  },
  "cells": [
    {
      "cell_type": "markdown",
      "metadata": {
        "id": "FN0fIyK6TXdh"
      },
      "source": [
        "# python dictionaries"
      ]
    },
    {
      "cell_type": "code",
      "metadata": {
        "colab": {
          "base_uri": "https://localhost:8080/"
        },
        "id": "TAn0wWL6Tja8",
        "outputId": "670551e8-f66f-4fb2-e276-69481f343abe"
      },
      "source": [
        "thisdict = {\n",
        "    \"Brand\": \"Ford\",\n",
        "    \"Model\": \"Mustang\",\n",
        "    \"Year\": 1964\n",
        "}\n",
        "print(thisdict)"
      ],
      "execution_count": null,
      "outputs": [
        {
          "output_type": "stream",
          "text": [
            "{'Brand': 'Ford', 'Model': 'Mustang', 'Year': 1964}\n"
          ],
          "name": "stdout"
        }
      ]
    },
    {
      "cell_type": "code",
      "metadata": {
        "colab": {
          "base_uri": "https://localhost:8080/"
        },
        "id": "Rw7WcBN-UKf6",
        "outputId": "6dc3f055-4e73-44cd-b076-33fe557858d0"
      },
      "source": [
        "thisdict = {\n",
        "    \"Brand\": \"Ford\",\n",
        "    \"Model\": \"Mustang\",\n",
        "    \"Year\": 1964,\n",
        "    \"Country\":\"India\"\n",
        "}\n",
        "print(thisdict)"
      ],
      "execution_count": null,
      "outputs": [
        {
          "output_type": "stream",
          "text": [
            "{'Brand': 'Ford', 'Model': 'Mustang', 'Year': 1964, 'Country': 'India'}\n"
          ],
          "name": "stdout"
        }
      ]
    },
    {
      "cell_type": "code",
      "metadata": {
        "colab": {
          "base_uri": "https://localhost:8080/"
        },
        "id": "rJu2eBgYUaUp",
        "outputId": "68ce1c63-d35c-4b33-d3b6-8a7e0be098b4"
      },
      "source": [
        "thisdict = {\n",
        "    \"Brand\": \"Ford\",\n",
        "    \"Model\": \"Mustang\",\n",
        "    \"Year\": 1964,\n",
        "    \"Country\":\"India\"\n",
        "}\n",
        "print(thisdict[\"Brand\"])"
      ],
      "execution_count": null,
      "outputs": [
        {
          "output_type": "stream",
          "text": [
            "Ford\n"
          ],
          "name": "stdout"
        }
      ]
    },
    {
      "cell_type": "code",
      "metadata": {
        "colab": {
          "base_uri": "https://localhost:8080/"
        },
        "id": "1iM6lIiaUndL",
        "outputId": "bc72f0d1-ed06-4d46-c6dc-19475455f6ad"
      },
      "source": [
        "thisdict = {\n",
        "    \"Brand\": \"Ford\",\n",
        "    \"Model\": \"Mustang\",\n",
        "    \"Year\": 1964,\n",
        "    \"Country\":\"India\"\n",
        "}\n",
        "print(thisdict[\"Year\"])"
      ],
      "execution_count": null,
      "outputs": [
        {
          "output_type": "stream",
          "text": [
            "1964\n"
          ],
          "name": "stdout"
        }
      ]
    },
    {
      "cell_type": "code",
      "metadata": {
        "colab": {
          "base_uri": "https://localhost:8080/"
        },
        "id": "RuDhpUbuVETf",
        "outputId": "d3e3965a-0079-41dc-878b-7772ee0490a4"
      },
      "source": [
        "thisdict = {\n",
        "    \"Brand\": \"Ford\",\n",
        "    \"Model\": \"Mustang\",\n",
        "    \"Year\": 1964,\n",
        "    \"Country\":\"India\",\n",
        "    \"Year\": 2020\n",
        "}\n",
        "print(thisdict[\"Year\"])"
      ],
      "execution_count": null,
      "outputs": [
        {
          "output_type": "stream",
          "text": [
            "2020\n"
          ],
          "name": "stdout"
        }
      ]
    },
    {
      "cell_type": "code",
      "metadata": {
        "colab": {
          "base_uri": "https://localhost:8080/"
        },
        "id": "0_inwIp3VX93",
        "outputId": "45487460-3e91-4dd0-ae35-91a0f64a764b"
      },
      "source": [
        "print(len(thisdict))"
      ],
      "execution_count": null,
      "outputs": [
        {
          "output_type": "stream",
          "text": [
            "4\n"
          ],
          "name": "stdout"
        }
      ]
    },
    {
      "cell_type": "code",
      "metadata": {
        "colab": {
          "base_uri": "https://localhost:8080/"
        },
        "id": "xjIVFaW6W2SR",
        "outputId": "5f7206ec-c50a-4cca-80b3-4b39fce781a5"
      },
      "source": [
        "thisdict = {\n",
        "    \"Brand\": \"Ford\",\n",
        "    \"Model\": \"Mustang\",\n",
        "    \"Country\":\"India\"\n",
        "  }\n",
        "print(thisdict[\"Model\"])"
      ],
      "execution_count": null,
      "outputs": [
        {
          "output_type": "stream",
          "text": [
            "Mustang\n"
          ],
          "name": "stdout"
        }
      ]
    },
    {
      "cell_type": "code",
      "metadata": {
        "colab": {
          "base_uri": "https://localhost:8080/"
        },
        "id": "Hud2ytjXXAt-",
        "outputId": "b09b6324-3544-400f-fd19-0b08e5982b65"
      },
      "source": [
        "print(len(thisdict))"
      ],
      "execution_count": null,
      "outputs": [
        {
          "output_type": "stream",
          "text": [
            "3\n"
          ],
          "name": "stdout"
        }
      ]
    },
    {
      "cell_type": "code",
      "metadata": {
        "colab": {
          "base_uri": "https://localhost:8080/"
        },
        "id": "BhBDPrLnXgkk",
        "outputId": "7c8d5643-bff1-4fd6-d7c8-5dfcc8fbd249"
      },
      "source": [
        "thisdict = {\n",
        "    \"Brand\": \"Ford\",\n",
        "    \"Model\": \"Mustang\",\n",
        "    \"Year\": 1964,\n",
        "    \"Country\":\"India\",\n",
        "    \"Colors\":[\"Red\",\"White\",\"Blue\"]\n",
        "  }\n",
        "print(thisdict)"
      ],
      "execution_count": null,
      "outputs": [
        {
          "output_type": "stream",
          "text": [
            "{'Brand': 'Ford', 'Model': 'Mustang', 'Year': 1964, 'Country': 'India', 'Colors': ['Red', 'White', 'Blue']}\n"
          ],
          "name": "stdout"
        }
      ]
    },
    {
      "cell_type": "code",
      "metadata": {
        "colab": {
          "base_uri": "https://localhost:8080/"
        },
        "id": "q_YgNSaJX7n5",
        "outputId": "2315bc13-1e35-45ef-cfce-ee0664390028"
      },
      "source": [
        "thisdict = {\n",
        "    \"Brand\": \"Ford\",\n",
        "    \"Model\": \"Mustang\",\n",
        "    \"Year\": 1964,\n",
        "    \"Country\":\"India\",\n",
        "    \"Colors\":[\"Red\",\"White\",\"Blue\"]\n",
        "  }\n",
        "print(type(thisdict))"
      ],
      "execution_count": null,
      "outputs": [
        {
          "output_type": "stream",
          "text": [
            "<class 'dict'>\n"
          ],
          "name": "stdout"
        }
      ]
    },
    {
      "cell_type": "code",
      "metadata": {
        "colab": {
          "base_uri": "https://localhost:8080/"
        },
        "id": "qiMTRiNWY266",
        "outputId": "c3ff1a61-e44a-476d-ee61-3371c3ea3fc7"
      },
      "source": [
        "thisdict = {\n",
        "    \"Brand\": \"Ford\",\n",
        "    \"Model\": \"Mustang\",\n",
        "    \"Year\": 1964,\n",
        "    \"Country\":\"India\",\n",
        "    \"Colors\":[\"Red\",\"White\",\"Blue\"]\n",
        "  }\n",
        "thisdict[\"Year\"] = 2020\n",
        "print(thisdict)\n",
        "print(type(thisdict))"
      ],
      "execution_count": null,
      "outputs": [
        {
          "output_type": "stream",
          "text": [
            "{'Brand': 'Ford', 'Model': 'Mustang', 'Year': 2020, 'Country': 'India', 'Colors': ['Red', 'White', 'Blue']}\n",
            "<class 'dict'>\n"
          ],
          "name": "stdout"
        }
      ]
    },
    {
      "cell_type": "code",
      "metadata": {
        "colab": {
          "base_uri": "https://localhost:8080/"
        },
        "id": "LIUu3NsPa9bB",
        "outputId": "d5ed4b72-34f8-4fcc-f1c3-a03c7370abe0"
      },
      "source": [
        "thisdict = {\n",
        "    \"Brand\": \"Ford\",\n",
        "    \"Model\": \"Mustang\",\n",
        "    \"Year\": 1964,\n",
        "    \"Country\":\"India\",\n",
        "    \"Colors\":[\"Red\",\"White\",\"Blue\"]\n",
        "  }\n",
        "thisdict.update({\"Pavi\":\"First Owner\"})\n",
        "print(thisdict)\n"
      ],
      "execution_count": null,
      "outputs": [
        {
          "output_type": "stream",
          "text": [
            "{'Brand': 'Ford', 'Model': 'Mustang', 'Year': 1964, 'Country': 'India', 'Colors': ['Red', 'White', 'Blue'], 'Pavi': 'First Owner'}\n"
          ],
          "name": "stdout"
        }
      ]
    },
    {
      "cell_type": "code",
      "metadata": {
        "colab": {
          "base_uri": "https://localhost:8080/"
        },
        "id": "-r6A2sJAbhND",
        "outputId": "4685cb71-beea-419f-e557-155e59848fbb"
      },
      "source": [
        "thisdict = {\n",
        "    \"Brand\": \"Ford\",\n",
        "    \"Model\": \"Mustang\",\n",
        "    \"Year\": 1964,\n",
        "    \"Country\":\"India\",\n",
        "    \"Colors\":[\"Red\",\"White\",\"Blue\"]\n",
        "  }\n",
        "thisdict.pop(\"Colors\")\n",
        "print(thisdict)"
      ],
      "execution_count": null,
      "outputs": [
        {
          "output_type": "stream",
          "text": [
            "{'Brand': 'Ford', 'Model': 'Mustang', 'Year': 1964, 'Country': 'India'}\n"
          ],
          "name": "stdout"
        }
      ]
    },
    {
      "cell_type": "code",
      "metadata": {
        "colab": {
          "base_uri": "https://localhost:8080/"
        },
        "id": "9rFaiI2VcJlM",
        "outputId": "b7f805b7-e5de-4db4-f39e-39215f35e1ba"
      },
      "source": [
        "thisdict = {\n",
        "    \"Brand\": \"Ford\",\n",
        "    \"Model\": \"Mustang\",\n",
        "    \"Year\": 1964,\n",
        "    \"Country\":\"India\",\n",
        "    \"Colors\":[\"Red\",\"White\",\"Blue\"]\n",
        "  }\n",
        "del thisdict[\"Model\"]\n",
        "print(thisdict)"
      ],
      "execution_count": null,
      "outputs": [
        {
          "output_type": "stream",
          "text": [
            "{'Brand': 'Ford', 'Year': 1964, 'Country': 'India', 'Colors': ['Red', 'White', 'Blue']}\n"
          ],
          "name": "stdout"
        }
      ]
    },
    {
      "cell_type": "code",
      "metadata": {
        "colab": {
          "base_uri": "https://localhost:8080/"
        },
        "id": "w3LBlBaZcbU7",
        "outputId": "f7086297-5acc-47c3-a90e-308d39753d91"
      },
      "source": [
        "thisdict = {\n",
        "    \"Brand\": \"Ford\",\n",
        "    \"Model\": \"Mustang\",\n",
        "    \"Year\": 1964,\n",
        "    \"Country\":\"India\",\n",
        "    \"Colors\":[\"Red\",\"White\",\"Blue\"]\n",
        "  }\n",
        "thisdict.clear()\n",
        "print(thisdict)"
      ],
      "execution_count": null,
      "outputs": [
        {
          "output_type": "stream",
          "text": [
            "{}\n"
          ],
          "name": "stdout"
        }
      ]
    },
    {
      "cell_type": "code",
      "metadata": {
        "colab": {
          "base_uri": "https://localhost:8080/"
        },
        "id": "fpH5AkEcczkP",
        "outputId": "ed8d4c7f-3848-41d9-be73-fbdf99b647b5"
      },
      "source": [
        "thisdict = {\n",
        "    \"Brand\": \"Ford\",\n",
        "    \"Model\": \"Mustang\",\n",
        "    \"Year\": 1964,\n",
        "    \"Country\":\"India\",\n",
        "    \"Colors\":[\"Red\",\"White\",\"Blue\"]\n",
        "  }\n",
        "Newdict = thisdict.copy()\n",
        "print(Newdict)"
      ],
      "execution_count": null,
      "outputs": [
        {
          "output_type": "stream",
          "text": [
            "{'Brand': 'Ford', 'Model': 'Mustang', 'Year': 1964, 'Country': 'India', 'Colors': ['Red', 'White', 'Blue']}\n"
          ],
          "name": "stdout"
        }
      ]
    },
    {
      "cell_type": "code",
      "metadata": {
        "colab": {
          "base_uri": "https://localhost:8080/"
        },
        "id": "_LBsQ6CcdKzW",
        "outputId": "5ca912ea-9685-4d20-b7b7-ae90da7d334f"
      },
      "source": [
        "thisdict = {\n",
        "    \"child1\":{\n",
        "    \"Name\":\"Pavi\",\n",
        "    \"Year\":2020\n",
        "    },\n",
        "    \"child2\":{\n",
        "    \"Name\":\"Rakshi\",\n",
        "      \"Year\":1999\n",
        "    }\n",
        "}\n",
        "print(thisdict)"
      ],
      "execution_count": null,
      "outputs": [
        {
          "output_type": "stream",
          "text": [
            "{'child1': {'Name': 'Pavi', 'Year': 2020}, 'child2': {'Name': 'Rakshi', 'Year': 1999}}\n"
          ],
          "name": "stdout"
        }
      ]
    },
    {
      "cell_type": "code",
      "metadata": {
        "colab": {
          "base_uri": "https://localhost:8080/"
        },
        "id": "RlExP1l-gB-G",
        "outputId": "2a2392de-ef6d-4cfa-f001-2258fe6153a3"
      },
      "source": [
        "a=33\n",
        "b=200\n",
        "if b>a:\n",
        "  print(\"b is greater than a\")\n",
        "elif a==b:\n",
        "  print(\"a and b are equal\")"
      ],
      "execution_count": null,
      "outputs": [
        {
          "output_type": "stream",
          "text": [
            "b is greater than a\n"
          ],
          "name": "stdout"
        }
      ]
    },
    {
      "cell_type": "code",
      "metadata": {
        "colab": {
          "base_uri": "https://localhost:8080/"
        },
        "id": "gYBZ_lLUgfpK",
        "outputId": "5e649f25-bcc8-4136-aa46-bdadcb69df7b"
      },
      "source": [
        "a=333\n",
        "b=200\n",
        "if b>a:\n",
        "  print(\"b is greater than a\")\n",
        "elif a==b:\n",
        "  print(\"a and b are equal\")\n",
        "else:\n",
        "  print(\"a is greater than b\")"
      ],
      "execution_count": null,
      "outputs": [
        {
          "output_type": "stream",
          "text": [
            "a is greater than b\n"
          ],
          "name": "stdout"
        }
      ]
    },
    {
      "cell_type": "code",
      "metadata": {
        "colab": {
          "base_uri": "https://localhost:8080/"
        },
        "id": "r2sRl02MgtKe",
        "outputId": "d6ac4da7-8441-4a51-956b-41db4406c97c"
      },
      "source": [
        "a=333\n",
        "b=33\n",
        "if b>a:\n",
        "  print(\"b is greater than a\")\n",
        "else:\n",
        "  print(\"a is greater than b\")"
      ],
      "execution_count": null,
      "outputs": [
        {
          "output_type": "stream",
          "text": [
            "a is greater than b\n"
          ],
          "name": "stdout"
        }
      ]
    },
    {
      "cell_type": "code",
      "metadata": {
        "colab": {
          "base_uri": "https://localhost:8080/"
        },
        "id": "_uXbkBbfhM3i",
        "outputId": "4a5a909a-9064-4e5b-81c5-0f35ee54c477"
      },
      "source": [
        "a=333\n",
        "b=3345\n",
        "if b>a: print(\"b is greater than a\")"
      ],
      "execution_count": null,
      "outputs": [
        {
          "output_type": "stream",
          "text": [
            "b is greater than a\n"
          ],
          "name": "stdout"
        }
      ]
    },
    {
      "cell_type": "code",
      "metadata": {
        "id": "7NAv0xjThcD-"
      },
      "source": [
        "a=333\n",
        "b=3345\n",
        "c=34\n",
        "if a>b and c>a:\n",
        "   print(\"both conditions are true\")"
      ],
      "execution_count": null,
      "outputs": []
    },
    {
      "cell_type": "code",
      "metadata": {
        "id": "W4FNE4XvhwXF"
      },
      "source": [
        "a=333\n",
        "b=3345\n",
        "c=34\n",
        "if a>b and c>a:\n",
        "  print(\"atleast one of the condition is true\")"
      ],
      "execution_count": null,
      "outputs": []
    },
    {
      "cell_type": "markdown",
      "metadata": {
        "id": "DCj0UbfYiJav"
      },
      "source": [
        "# Nested if"
      ]
    },
    {
      "cell_type": "code",
      "metadata": {
        "colab": {
          "base_uri": "https://localhost:8080/"
        },
        "id": "FxbufmjgiN4O",
        "outputId": "65181174-a346-4372-c01c-6d2245b6327e"
      },
      "source": [
        "x = 41\n",
        "\n",
        "if x>10:\n",
        "  print(\"it is above the value 10\")\n",
        "  if x>20:\n",
        "    print(\"it is above the value 20\")\n",
        "  else:\n",
        "    print(\"but not above 20\")  \n",
        "  "
      ],
      "execution_count": null,
      "outputs": [
        {
          "output_type": "stream",
          "text": [
            "it is above the value 10\n",
            "it is above the value 20\n"
          ],
          "name": "stdout"
        }
      ]
    },
    {
      "cell_type": "code",
      "metadata": {
        "colab": {
          "base_uri": "https://localhost:8080/"
        },
        "id": "Db-0M0mkkfy8",
        "outputId": "8d4b8c79-70e9-4804-8020-d7adff08ca80"
      },
      "source": [
        "# while loop\n",
        "i = 1\n",
        "while i<6:\n",
        "  print(i)\n",
        "  i += 1"
      ],
      "execution_count": null,
      "outputs": [
        {
          "output_type": "stream",
          "text": [
            "1\n",
            "2\n",
            "3\n",
            "4\n",
            "5\n"
          ],
          "name": "stdout"
        }
      ]
    },
    {
      "cell_type": "code",
      "metadata": {
        "colab": {
          "base_uri": "https://localhost:8080/"
        },
        "id": "tXqSj3UOjQFi",
        "outputId": "4a6ff15b-b1a1-49b8-a57a-481d6299f4cc"
      },
      "source": [
        "# while loop\n",
        "i = 1\n",
        "while i<6:\n",
        "  print(i)\n",
        "  if (i==3):\n",
        "    break\n",
        "  i += 1  \n"
      ],
      "execution_count": null,
      "outputs": [
        {
          "output_type": "stream",
          "text": [
            "1\n",
            "2\n",
            "3\n"
          ],
          "name": "stdout"
        }
      ]
    },
    {
      "cell_type": "code",
      "metadata": {
        "colab": {
          "base_uri": "https://localhost:8080/"
        },
        "id": "mAZOrMSDkBQB",
        "outputId": "f66e8d44-f3d1-4442-b589-506624a85fa9"
      },
      "source": [
        "# while loop\n",
        "i = 1\n",
        "while i<6:\n",
        "  print(i)\n",
        "  if (i==3):\n",
        "    break\n",
        "  i += 1\n",
        "else:\n",
        "    print(\"i is no longer less than 6\")"
      ],
      "execution_count": null,
      "outputs": [
        {
          "output_type": "stream",
          "text": [
            "1\n",
            "2\n",
            "3\n"
          ],
          "name": "stdout"
        }
      ]
    },
    {
      "cell_type": "code",
      "metadata": {
        "colab": {
          "base_uri": "https://localhost:8080/"
        },
        "id": "58CYUFcWkUxw",
        "outputId": "93f946cd-9a1e-4882-ab1e-887731480c2e"
      },
      "source": [
        "# python program to find the L.C.M of two input numbers\n",
        "\n",
        "def lcm(x, y):\n",
        "  if x > y:\n",
        "    greater = x\n",
        "  else:\n",
        "      greater = y\n",
        "\n",
        "  while(True) :\n",
        "      if((greater % x==0) and (greater % y==0)):\n",
        "        lcm = greater\n",
        "        break\n",
        "      greater += 1\n",
        "  return lcm \n",
        "num1 = int(input(\"Enter the first number\"))\n",
        "num2 = int(input(\"Enter the second number\")) \n",
        "print(\"The L.C.M of\",num1,\"and\",num2,\"is\",lcm(num1,num2))    \n",
        "\n"
      ],
      "execution_count": null,
      "outputs": [
        {
          "output_type": "stream",
          "text": [
            "Enter the first number300\n",
            "Enter the second number600\n",
            "The L.C.M of 300 and 600 is 600\n"
          ],
          "name": "stdout"
        }
      ]
    },
    {
      "cell_type": "code",
      "metadata": {
        "id": "RKq1bS7tlypD",
        "colab": {
          "base_uri": "https://localhost:8080/"
        },
        "outputId": "ee9bf3b0-bcae-4568-f0a8-a8c2e6a5b5b8"
      },
      "source": [
        "\n",
        "def lcm(x, y):\n",
        "  if x > y:\n",
        "    greater = x\n",
        "  else:\n",
        "      greater = y\n",
        "\n",
        "  while(True) :\n",
        "      if((greater % x==0) and (greater % y==0)):\n",
        "        lcm = greater\n",
        "        break\n",
        "      greater += 1\n",
        "  return lcm \n",
        "num1 = int(input(\"Enter the first number\"))\n",
        "num2 = int(input(\"Enter the second number\")) \n",
        "print(\"The L.C.M of\",num1,\"and\",num2,\"is\",lcm(num1,num2)) "
      ],
      "execution_count": null,
      "outputs": [
        {
          "output_type": "stream",
          "text": [
            "Enter the first number99\n",
            "Enter the second number88\n",
            "The L.C.M of 99 and 88 is 792\n"
          ],
          "name": "stdout"
        }
      ]
    },
    {
      "cell_type": "code",
      "metadata": {
        "colab": {
          "base_uri": "https://localhost:8080/"
        },
        "id": "OOy3wG-7i7HP",
        "outputId": "f3b4aa2e-006a-4b77-ea46-014e3c9e358b"
      },
      "source": [
        "\n",
        "def lcm(x, y):\n",
        "  if x > y:\n",
        "    greater = x\n",
        "  else:\n",
        "      greater = y\n",
        "\n",
        "  while(True) :\n",
        "      if((greater % x==0) and (greater % y==0)):\n",
        "        lcm = greater\n",
        "        break\n",
        "      greater += 1\n",
        "  return lcm \n",
        "num1 = int(input(\"Enter the first number\"))\n",
        "num2 = int(input(\"Enter the second number\")) \n",
        "print(\"The L.C.M of\",num1,\"and\",num2,\"is\",lcm(num1,num2)) "
      ],
      "execution_count": null,
      "outputs": [
        {
          "output_type": "stream",
          "text": [
            "Enter the first number34\n",
            "Enter the second number56\n",
            "The L.C.M of 34 and 56 is 952\n"
          ],
          "name": "stdout"
        }
      ]
    },
    {
      "cell_type": "markdown",
      "metadata": {
        "id": "J5Y2tR2pjWLQ"
      },
      "source": [
        "# Getting started with Numpy"
      ]
    },
    {
      "cell_type": "code",
      "metadata": {
        "colab": {
          "base_uri": "https://localhost:8080/"
        },
        "id": "K1dddQLxjCce",
        "outputId": "c185e660-d10a-4d47-ded7-f497a9edd088"
      },
      "source": [
        "import numpy as np\n",
        "arr = np.array([1,2,3,4,5])\n",
        "print(arr)"
      ],
      "execution_count": null,
      "outputs": [
        {
          "output_type": "stream",
          "text": [
            "[1 2 3 4 5]\n"
          ],
          "name": "stdout"
        }
      ]
    },
    {
      "cell_type": "code",
      "metadata": {
        "colab": {
          "base_uri": "https://localhost:8080/"
        },
        "id": "w-HHh2_Yjoc0",
        "outputId": "bc9c5aed-7ca0-4bc0-f5cf-9230448d5949"
      },
      "source": [
        "import numpy\n",
        "arr = numpy.array([1,2,3,4,5])\n",
        "print(arr)"
      ],
      "execution_count": null,
      "outputs": [
        {
          "output_type": "stream",
          "text": [
            "[1 2 3 4 5]\n"
          ],
          "name": "stdout"
        }
      ]
    },
    {
      "cell_type": "code",
      "metadata": {
        "colab": {
          "base_uri": "https://localhost:8080/"
        },
        "id": "aiWYgTQuj5Q6",
        "outputId": "665f9606-2320-4bc6-d3d5-1315a9839e94"
      },
      "source": [
        "import numpy as np\n",
        "print(np.__version__)"
      ],
      "execution_count": null,
      "outputs": [
        {
          "output_type": "stream",
          "text": [
            "1.18.5\n"
          ],
          "name": "stdout"
        }
      ]
    },
    {
      "cell_type": "markdown",
      "metadata": {
        "id": "yOobPddQkPaZ"
      },
      "source": [
        "# Create a Numpy as np"
      ]
    },
    {
      "cell_type": "code",
      "metadata": {
        "colab": {
          "base_uri": "https://localhost:8080/"
        },
        "id": "P7DRDvlmkIih",
        "outputId": "7e9ab434-e85c-49e1-ad7e-3e0181a652e6"
      },
      "source": [
        "import numpy as np\n",
        "arr = np.array([1,2,3,4,5])\n",
        "print(arr)\n",
        "print(type(arr))"
      ],
      "execution_count": null,
      "outputs": [
        {
          "output_type": "stream",
          "text": [
            "[1 2 3 4 5]\n",
            "<class 'numpy.ndarray'>\n"
          ],
          "name": "stdout"
        }
      ]
    },
    {
      "cell_type": "code",
      "metadata": {
        "colab": {
          "base_uri": "https://localhost:8080/"
        },
        "id": "WyCTITQ3klqI",
        "outputId": "06598dfe-0413-42ce-ce0e-e1679ffd5bbf"
      },
      "source": [
        "import numpy as np\n",
        "arr = np.array([345])\n",
        "print(arr)\n",
        "print(type(arr))"
      ],
      "execution_count": null,
      "outputs": [
        {
          "output_type": "stream",
          "text": [
            "[345]\n",
            "<class 'numpy.ndarray'>\n"
          ],
          "name": "stdout"
        }
      ]
    },
    {
      "cell_type": "code",
      "metadata": {
        "colab": {
          "base_uri": "https://localhost:8080/"
        },
        "id": "ZJ1y0_ynksMt",
        "outputId": "612c255c-529e-4daf-af8f-d91d59d9f79e"
      },
      "source": [
        "import numpy as np\n",
        "arr = np.array([[1,2,3,4,5],[6,7,8,9,10]])\n",
        "print(arr)\n",
        "print(type(arr))"
      ],
      "execution_count": null,
      "outputs": [
        {
          "output_type": "stream",
          "text": [
            "[[ 1  2  3  4  5]\n",
            " [ 6  7  8  9 10]]\n",
            "<class 'numpy.ndarray'>\n"
          ],
          "name": "stdout"
        }
      ]
    },
    {
      "cell_type": "code",
      "metadata": {
        "colab": {
          "base_uri": "https://localhost:8080/"
        },
        "id": "8hZHjbt_k3WY",
        "outputId": "6187ee96-48ca-40ae-dd5e-e2d21f366874"
      },
      "source": [
        "import numpy as np\n",
        "arr = np.array([[[1,2,3],[4,5,6]],[[6,7,8],[9,10,11]]])\n",
        "print(arr)\n",
        "print(type(arr))"
      ],
      "execution_count": null,
      "outputs": [
        {
          "output_type": "stream",
          "text": [
            "[[[ 1  2  3]\n",
            "  [ 4  5  6]]\n",
            "\n",
            " [[ 6  7  8]\n",
            "  [ 9 10 11]]]\n",
            "<class 'numpy.ndarray'>\n"
          ],
          "name": "stdout"
        }
      ]
    },
    {
      "cell_type": "code",
      "metadata": {
        "colab": {
          "base_uri": "https://localhost:8080/"
        },
        "id": "9SrTqbFUlSLs",
        "outputId": "81cf08c9-f14c-4cbd-b64b-1c00c359b9b1"
      },
      "source": [
        "import numpy as np\n",
        "\n",
        "a = np.array(456)\n",
        "b = np.array([1,2,3,4,5,6,7])\n",
        "c = np.array([[1,2,3,4,5],[6,7,8,9,10]])\n",
        "d = np.array([[[1,2,3],[4,5,6]],[[6,7,8],[9,10,11]]])\n",
        "print(a.ndim)\n",
        "print(b.ndim)\n",
        "print(c.ndim)\n",
        "print(d.ndim)"
      ],
      "execution_count": null,
      "outputs": [
        {
          "output_type": "stream",
          "text": [
            "0\n",
            "1\n",
            "2\n",
            "3\n"
          ],
          "name": "stdout"
        }
      ]
    },
    {
      "cell_type": "code",
      "metadata": {
        "colab": {
          "base_uri": "https://localhost:8080/"
        },
        "id": "kFpJAWc7mQsU",
        "outputId": "b14467bb-a425-4fa5-aa1e-d4177714d083"
      },
      "source": [
        "import numpy as np\n",
        "arr = np.array([1,2,3,4,5,6,7])\n",
        "print(arr[0])"
      ],
      "execution_count": null,
      "outputs": [
        {
          "output_type": "stream",
          "text": [
            "1\n"
          ],
          "name": "stdout"
        }
      ]
    },
    {
      "cell_type": "code",
      "metadata": {
        "colab": {
          "base_uri": "https://localhost:8080/"
        },
        "id": "qu9aNVlkm3T3",
        "outputId": "cb849caf-e845-4e8b-86ee-f5cfb0687573"
      },
      "source": [
        "import numpy as np\n",
        "arr = np.array([1,2,3,4,5,6,7])\n",
        "print(arr[2])"
      ],
      "execution_count": null,
      "outputs": [
        {
          "output_type": "stream",
          "text": [
            "3\n"
          ],
          "name": "stdout"
        }
      ]
    },
    {
      "cell_type": "code",
      "metadata": {
        "colab": {
          "base_uri": "https://localhost:8080/"
        },
        "id": "Olb6KKg_m7LU",
        "outputId": "fd96c986-0628-40f9-fc77-5a3e9ed7143a"
      },
      "source": [
        "import numpy as np\n",
        "arr = np.array([1,2,3,4,5,6,7])\n",
        "print(arr[2] + arr[4])"
      ],
      "execution_count": null,
      "outputs": [
        {
          "output_type": "stream",
          "text": [
            "8\n"
          ],
          "name": "stdout"
        }
      ]
    },
    {
      "cell_type": "code",
      "metadata": {
        "colab": {
          "base_uri": "https://localhost:8080/"
        },
        "id": "sBtiDlsHnRS8",
        "outputId": "d34e9a76-3c2b-44e6-8fb0-403009a7b4e6"
      },
      "source": [
        "import numpy as np\n",
        "c = np.array([[1,2,3,4,5],[6,7,8,9,10]])\n",
        "print('5th element n 2nd dim: ', c[1,4])"
      ],
      "execution_count": null,
      "outputs": [
        {
          "output_type": "stream",
          "text": [
            "5th element n 2nd dim:  10\n"
          ],
          "name": "stdout"
        }
      ]
    },
    {
      "cell_type": "code",
      "metadata": {
        "colab": {
          "base_uri": "https://localhost:8080/"
        },
        "id": "U6Djy8yPnnyI",
        "outputId": "7b36b829-cc0e-4075-c5bc-552aa925331f"
      },
      "source": [
        "import numpy as np\n",
        "c = np.array([[1,2,3,4,5],[6,7,8,9,10]])\n",
        "print(c)\n",
        "print('5th element n 2nd dim: ', c[1,4])"
      ],
      "execution_count": null,
      "outputs": [
        {
          "output_type": "stream",
          "text": [
            "[[ 1  2  3  4  5]\n",
            " [ 6  7  8  9 10]]\n",
            "5th element n 2nd dim:  10\n"
          ],
          "name": "stdout"
        }
      ]
    },
    {
      "cell_type": "code",
      "metadata": {
        "colab": {
          "base_uri": "https://localhost:8080/"
        },
        "id": "KIAHTZoSoJex",
        "outputId": "b05a62f0-b9a4-47e4-a28a-5921595dc112"
      },
      "source": [
        "import numpy as np\n",
        "c = np.array([[[1,2,3],[4,5,6]],[[6,7,8],[9,10,11]]])\n",
        "print(c)\n",
        "print('5th element n 2nd dim: ', c[0,1,2])"
      ],
      "execution_count": null,
      "outputs": [
        {
          "output_type": "stream",
          "text": [
            "[[[ 1  2  3]\n",
            "  [ 4  5  6]]\n",
            "\n",
            " [[ 6  7  8]\n",
            "  [ 9 10 11]]]\n",
            "5th element n 2nd dim:  6\n"
          ],
          "name": "stdout"
        }
      ]
    },
    {
      "cell_type": "code",
      "metadata": {
        "colab": {
          "base_uri": "https://localhost:8080/"
        },
        "id": "Sk7cyLM0ogE1",
        "outputId": "5c880f44-f325-4af3-c4f4-0e043a73d43c"
      },
      "source": [
        "import numpy as np\n",
        "c = np.array([[[1,2,3],[4,5,6]],[[6,7,8],[9,10,11]]])\n",
        "print(c)\n",
        "print(\"print the third element of second array of the first array: \",c[0,1,2])"
      ],
      "execution_count": null,
      "outputs": [
        {
          "output_type": "stream",
          "text": [
            "[[[ 1  2  3]\n",
            "  [ 4  5  6]]\n",
            "\n",
            " [[ 6  7  8]\n",
            "  [ 9 10 11]]]\n",
            "print the third element of second array of the first array:  6\n"
          ],
          "name": "stdout"
        }
      ]
    },
    {
      "cell_type": "code",
      "metadata": {
        "colab": {
          "base_uri": "https://localhost:8080/"
        },
        "id": "cCVVHtq0pD-L",
        "outputId": "d88a0130-d2a9-4533-fa31-abc0ce7c8b30"
      },
      "source": [
        "import numpy as np\n",
        "c = np.array([[1,2,3,4,5],[6,7,8,9,10]])\n",
        "print(c)\n",
        "print('last element from 2nd dim: ', c[1,-1])"
      ],
      "execution_count": null,
      "outputs": [
        {
          "output_type": "stream",
          "text": [
            "[[ 1  2  3  4  5]\n",
            " [ 6  7  8  9 10]]\n",
            "last element from 2nd dim:  10\n"
          ],
          "name": "stdout"
        }
      ]
    },
    {
      "cell_type": "code",
      "metadata": {
        "colab": {
          "base_uri": "https://localhost:8080/"
        },
        "id": "DhPADeqYpZqi",
        "outputId": "553fa247-8a85-4af4-e777-f55291b724fb"
      },
      "source": [
        "import numpy as np\n",
        "c = np.array([1,2,3,4,5,6,7,8,9,10])\n",
        "print(c[1:6])"
      ],
      "execution_count": null,
      "outputs": [
        {
          "output_type": "stream",
          "text": [
            "[2 3 4 5 6]\n"
          ],
          "name": "stdout"
        }
      ]
    },
    {
      "cell_type": "code",
      "metadata": {
        "colab": {
          "base_uri": "https://localhost:8080/"
        },
        "id": "imrkoMYxpopg",
        "outputId": "bb8e27bf-6373-48dc-f6c2-ba7be7b5cd16"
      },
      "source": [
        "import numpy as np\n",
        "c = np.array([1,2,3,4,5,6,7,8,9,10])\n",
        "print(c[1:5])"
      ],
      "execution_count": null,
      "outputs": [
        {
          "output_type": "stream",
          "text": [
            "[2 3 4 5]\n"
          ],
          "name": "stdout"
        }
      ]
    },
    {
      "cell_type": "code",
      "metadata": {
        "colab": {
          "base_uri": "https://localhost:8080/"
        },
        "id": "foQ_FolupupH",
        "outputId": "0df7f8a9-7b51-4312-99c8-6dca15dec34c"
      },
      "source": [
        "import numpy as np\n",
        "c = np.array([1,2,3,4,5,6,7,8,9,10,22,23,24,25,26,27])\n",
        "print(c[5:])"
      ],
      "execution_count": null,
      "outputs": [
        {
          "output_type": "stream",
          "text": [
            "[ 6  7  8  9 10 22 23 24 25 26 27]\n"
          ],
          "name": "stdout"
        }
      ]
    },
    {
      "cell_type": "code",
      "metadata": {
        "colab": {
          "base_uri": "https://localhost:8080/"
        },
        "id": "3qoOaPNZp49B",
        "outputId": "a46b1be4-5142-4e4c-988b-708038c4699a"
      },
      "source": [
        "import numpy as np\n",
        "c = np.array([1,2,3,4,5,6,7,8,9,10,22,23,24,25,26,27])\n",
        "print(c[8:])"
      ],
      "execution_count": null,
      "outputs": [
        {
          "output_type": "stream",
          "text": [
            "[ 9 10 22 23 24 25 26 27]\n"
          ],
          "name": "stdout"
        }
      ]
    },
    {
      "cell_type": "code",
      "metadata": {
        "colab": {
          "base_uri": "https://localhost:8080/"
        },
        "id": "mYTtIztIp_5u",
        "outputId": "4d7e5b86-98e1-4694-967d-08fd786d118d"
      },
      "source": [
        "import numpy as np\n",
        "c = np.array([1,2,3,4,5,6,7,8,9,10,22,23,24,25,26,27])\n",
        "print(c[:8])"
      ],
      "execution_count": null,
      "outputs": [
        {
          "output_type": "stream",
          "text": [
            "[1 2 3 4 5 6 7 8]\n"
          ],
          "name": "stdout"
        }
      ]
    },
    {
      "cell_type": "code",
      "metadata": {
        "colab": {
          "base_uri": "https://localhost:8080/"
        },
        "id": "bpXmiu27qEga",
        "outputId": "6c2f7374-57c1-4a39-9ded-660570ca6a51"
      },
      "source": [
        "import numpy as np\n",
        "c = np.array([1,2,3,4,5,6,7,8,9,10,22,23,24,25,26,27])\n",
        "print(c[-3:-1])"
      ],
      "execution_count": null,
      "outputs": [
        {
          "output_type": "stream",
          "text": [
            "[25 26]\n"
          ],
          "name": "stdout"
        }
      ]
    },
    {
      "cell_type": "code",
      "metadata": {
        "colab": {
          "base_uri": "https://localhost:8080/"
        },
        "id": "dEHQ2MQjqMgQ",
        "outputId": "6d0022bf-e44c-4780-8edd-add3e3344205"
      },
      "source": [
        "import numpy as np\n",
        "c = np.array([1,2,3,4,5,6,7,8,9,10,22,23,24,25,26,27])\n",
        "print(c[1:3:5])"
      ],
      "execution_count": null,
      "outputs": [
        {
          "output_type": "stream",
          "text": [
            "[2]\n"
          ],
          "name": "stdout"
        }
      ]
    },
    {
      "cell_type": "code",
      "metadata": {
        "colab": {
          "base_uri": "https://localhost:8080/"
        },
        "id": "G_cGONmQqRCn",
        "outputId": "2937a67f-3968-42ac-9aaa-af5d65e2d47a"
      },
      "source": [
        "import numpy as np\n",
        "c = np.array([1,2,3,4,5,6,7,8,9,10,22,23,24,25,26,27])\n",
        "print(c[1:5:2])"
      ],
      "execution_count": null,
      "outputs": [
        {
          "output_type": "stream",
          "text": [
            "[2 4]\n"
          ],
          "name": "stdout"
        }
      ]
    },
    {
      "cell_type": "code",
      "metadata": {
        "colab": {
          "base_uri": "https://localhost:8080/"
        },
        "id": "I7mqQh0pqWyI",
        "outputId": "8b128d87-3dcf-48a6-a37f-0b9929d0d888"
      },
      "source": [
        "import numpy as np\n",
        "c = np.array([1,2,3,4,5,6,7,8,9,10,22,23,24,25,26,27])\n",
        "print(c[::2])"
      ],
      "execution_count": null,
      "outputs": [
        {
          "output_type": "stream",
          "text": [
            "[ 1  3  5  7  9 22 24 26]\n"
          ],
          "name": "stdout"
        }
      ]
    },
    {
      "cell_type": "code",
      "metadata": {
        "colab": {
          "base_uri": "https://localhost:8080/"
        },
        "id": "5YRtLzJUqcjM",
        "outputId": "28a21406-f2f9-4fad-dac7-a7b23c5b0134"
      },
      "source": [
        "import numpy as np\n",
        "c = np.array([[1,2,3,4,5],[6,7,8,9,10]])\n",
        "print(c[0:2,1:4])"
      ],
      "execution_count": null,
      "outputs": [
        {
          "output_type": "stream",
          "text": [
            "[[2 3 4]\n",
            " [7 8 9]]\n"
          ],
          "name": "stdout"
        }
      ]
    },
    {
      "cell_type": "code",
      "metadata": {
        "colab": {
          "base_uri": "https://localhost:8080/"
        },
        "id": "5aktKL6rqpTI",
        "outputId": "6ee9a6ca-b400-4c16-de1f-6c19b443c497"
      },
      "source": [
        "import numpy as np\n",
        "c = np.array([1,2,3,4,5,6,7,8,9,10,22,23,24,25,26,27])\n",
        "print(c.dtype)"
      ],
      "execution_count": null,
      "outputs": [
        {
          "output_type": "stream",
          "text": [
            "int64\n"
          ],
          "name": "stdout"
        }
      ]
    },
    {
      "cell_type": "code",
      "metadata": {
        "colab": {
          "base_uri": "https://localhost:8080/"
        },
        "id": "1MXeKExCqxIz",
        "outputId": "5a533a84-9f30-4146-da77-d33b282e6ab8"
      },
      "source": [
        "import numpy as np\n",
        "c = np.array(['Madhu','Sai','Mansi','Payal','Ashwini','Rahul'])\n",
        "print(c.dtype)"
      ],
      "execution_count": null,
      "outputs": [
        {
          "output_type": "stream",
          "text": [
            "<U7\n"
          ],
          "name": "stdout"
        }
      ]
    },
    {
      "cell_type": "code",
      "metadata": {
        "colab": {
          "base_uri": "https://localhost:8080/"
        },
        "id": "S8CFnKHWrXql",
        "outputId": "1172eda3-2cb8-4077-e037-d951b341b4cb"
      },
      "source": [
        "import numpy as np\n",
        "c = np.array([1.23,2.34,3.44,4.45])\n",
        "newarry = c.astype(int)\n",
        "print(newarry)\n",
        "print(newarry.dtype)"
      ],
      "execution_count": null,
      "outputs": [
        {
          "output_type": "stream",
          "text": [
            "[1 2 3 4]\n",
            "int64\n"
          ],
          "name": "stdout"
        }
      ]
    },
    {
      "cell_type": "code",
      "metadata": {
        "colab": {
          "base_uri": "https://localhost:8080/"
        },
        "id": "Mgyczh3PruFC",
        "outputId": "2126fe05-f83c-47b4-8469-e5de0ddd6b4e"
      },
      "source": [
        "import numpy as np\n",
        "c = np.array([1.23,2.34,3.44,4.45])\n",
        "newarry = c.astype(bool)\n",
        "print(newarry)\n",
        "print(newarry.dtype)"
      ],
      "execution_count": null,
      "outputs": [
        {
          "output_type": "stream",
          "text": [
            "[ True  True  True  True]\n",
            "bool\n"
          ],
          "name": "stdout"
        }
      ]
    },
    {
      "cell_type": "code",
      "metadata": {
        "colab": {
          "base_uri": "https://localhost:8080/"
        },
        "id": "WKoBMi0Dr7wz",
        "outputId": "3016d0b3-b0b4-43ee-a1cb-cf3392dd4c6a"
      },
      "source": [
        "import numpy as np\n",
        "c = np.array([1.23,2.34,3.44,4.45])\n",
        "x = c.copy()\n",
        "print(x)\n",
        "print(c)\n",
        "print(x.dtype)"
      ],
      "execution_count": null,
      "outputs": [
        {
          "output_type": "stream",
          "text": [
            "[1.23 2.34 3.44 4.45]\n",
            "[1.23 2.34 3.44 4.45]\n",
            "float64\n"
          ],
          "name": "stdout"
        }
      ]
    },
    {
      "cell_type": "code",
      "metadata": {
        "colab": {
          "base_uri": "https://localhost:8080/"
        },
        "id": "bh9XeJR1sK6-",
        "outputId": "da6cc729-8cce-4cb3-dece-2b01c4706351"
      },
      "source": [
        "import numpy as np\n",
        "c = np.array([1.23,2.34,3.44,4.45])\n",
        "x = c.view()\n",
        "x[0]\n",
        "print(x)\n",
        "print(c)\n",
        "print(x.dtype)"
      ],
      "execution_count": null,
      "outputs": [
        {
          "output_type": "stream",
          "text": [
            "[1.23 2.34 3.44 4.45]\n",
            "[1.23 2.34 3.44 4.45]\n",
            "float64\n"
          ],
          "name": "stdout"
        }
      ]
    },
    {
      "cell_type": "code",
      "metadata": {
        "colab": {
          "base_uri": "https://localhost:8080/"
        },
        "id": "5dKJTrK5sTx0",
        "outputId": "a32a2054-899b-478e-d46c-3ceccec03641"
      },
      "source": [
        "import numpy as np\n",
        "c = np.array([1.23,2.34,3.44,4.45])\n",
        "x = c.view()\n",
        "x[0] = 34\n",
        "print(x)\n",
        "print(c)\n",
        "print(x.dtype)"
      ],
      "execution_count": null,
      "outputs": [
        {
          "output_type": "stream",
          "text": [
            "[34.    2.34  3.44  4.45]\n",
            "[34.    2.34  3.44  4.45]\n",
            "float64\n"
          ],
          "name": "stdout"
        }
      ]
    },
    {
      "cell_type": "code",
      "metadata": {
        "colab": {
          "base_uri": "https://localhost:8080/"
        },
        "id": "28xcbLmyse0W",
        "outputId": "8513d877-5585-4701-e286-6b3704af2691"
      },
      "source": [
        "import numpy as np\n",
        "c = np.array([1.23,2.34,3.44,4.45])\n",
        "\n",
        "x = c.view()\n",
        "x[0] = 34\n",
        "\n",
        "print(x)\n",
        "print(c)\n",
        "print(x.dtype)"
      ],
      "execution_count": null,
      "outputs": [
        {
          "output_type": "stream",
          "text": [
            "[34.    2.34  3.44  4.45]\n",
            "[34.    2.34  3.44  4.45]\n",
            "float64\n"
          ],
          "name": "stdout"
        }
      ]
    },
    {
      "cell_type": "code",
      "metadata": {
        "colab": {
          "base_uri": "https://localhost:8080/"
        },
        "id": "Q3vzXkdkswAF",
        "outputId": "ef5e0644-561d-4c2b-d3d3-4dd7495370c9"
      },
      "source": [
        "import numpy as np\n",
        "c = np.array([1.23,2.34,3.44,4.45])\n",
        "x = c.view() #print the value of the attribute to check if any array consists of data or not\n",
        "y = c.copy()\n",
        "print(x.base)\n",
        "print(y.base)"
      ],
      "execution_count": null,
      "outputs": [
        {
          "output_type": "stream",
          "text": [
            "[1.23 2.34 3.44 4.45]\n",
            "None\n"
          ],
          "name": "stdout"
        }
      ]
    },
    {
      "cell_type": "code",
      "metadata": {
        "colab": {
          "base_uri": "https://localhost:8080/"
        },
        "id": "nkU9iq-YvFml",
        "outputId": "a958dc64-42eb-4c47-a0d7-6b5db9f18aeb"
      },
      "source": [
        "import numpy as np\n",
        "c = np.array([1.23,2.34,3.44,4.45])\n",
        "c = np.array([[1,2,3,4,5],[6,7,8,9,10]])\n",
        "print(c.shape)\n",
        "print(y.shape)"
      ],
      "execution_count": null,
      "outputs": [
        {
          "output_type": "stream",
          "text": [
            "(2, 5)\n",
            "(4,)\n"
          ],
          "name": "stdout"
        }
      ]
    },
    {
      "cell_type": "code",
      "metadata": {
        "colab": {
          "base_uri": "https://localhost:8080/"
        },
        "id": "G-fzo0ZOvsGW",
        "outputId": "1cf74e6c-3795-40bb-fc35-c844bd17283f"
      },
      "source": [
        "import numpy as np\n",
        "c = np.array([1,2,3,4,5,6,7,8,9,10,11,12])\n",
        "newarry = c.reshape(4,3)\n",
        "print(newarry)"
      ],
      "execution_count": null,
      "outputs": [
        {
          "output_type": "stream",
          "text": [
            "[[ 1  2  3]\n",
            " [ 4  5  6]\n",
            " [ 7  8  9]\n",
            " [10 11 12]]\n"
          ],
          "name": "stdout"
        }
      ]
    },
    {
      "cell_type": "code",
      "metadata": {
        "colab": {
          "base_uri": "https://localhost:8080/"
        },
        "id": "lTukIQ6SwA9r",
        "outputId": "81964eee-aeeb-42d1-8b94-7cb0638c8147"
      },
      "source": [
        "import numpy as np\n",
        "c = np.array([1,2,3,4,5,6,7,8,9,10,11,12])\n",
        "newarry = c.reshape(2,3,2)\n",
        "print(newarry)"
      ],
      "execution_count": null,
      "outputs": [
        {
          "output_type": "stream",
          "text": [
            "[[[ 1  2]\n",
            "  [ 3  4]\n",
            "  [ 5  6]]\n",
            "\n",
            " [[ 7  8]\n",
            "  [ 9 10]\n",
            "  [11 12]]]\n"
          ],
          "name": "stdout"
        }
      ]
    },
    {
      "cell_type": "code",
      "metadata": {
        "colab": {
          "base_uri": "https://localhost:8080/"
        },
        "id": "PZRwxY0rtKUG",
        "outputId": "43181a7f-5e77-4ac2-ea84-609fb68c8c41"
      },
      "source": [
        "import numpy as np\n",
        "arr = np.array([[1,2,3],[4,5,6]])\n",
        "newarry = arr.reshape(-1)\n",
        "print(newarry)"
      ],
      "execution_count": null,
      "outputs": [
        {
          "output_type": "stream",
          "text": [
            "[1 2 3 4 5 6]\n"
          ],
          "name": "stdout"
        }
      ]
    },
    {
      "cell_type": "code",
      "metadata": {
        "colab": {
          "base_uri": "https://localhost:8080/"
        },
        "id": "S7t6vmwPtuAL",
        "outputId": "d7df20c7-88a6-4e52-8122-9b61430358c1"
      },
      "source": [
        "import numpy as np\n",
        "arr = np.array([[1,2,3],[4,5,6]])\n",
        "newarry = arr.reshape(-1)\n",
        "print(arr)\n",
        "print(newarry)"
      ],
      "execution_count": null,
      "outputs": [
        {
          "output_type": "stream",
          "text": [
            "[[1 2 3]\n",
            " [4 5 6]]\n",
            "[1 2 3 4 5 6]\n"
          ],
          "name": "stdout"
        }
      ]
    },
    {
      "cell_type": "code",
      "metadata": {
        "colab": {
          "base_uri": "https://localhost:8080/"
        },
        "id": "ReBW-kntuJtK",
        "outputId": "82f1f32e-ae49-4b20-e35b-5cd873f60f08"
      },
      "source": [
        "import numpy as np\n",
        "arr1 = np.array([1,2,3])\n",
        "arr2 = np.array([4,5,6])\n",
        "newarry = np.concatenate((arr1,arr2))\n",
        "print(arr1)\n",
        "print(arr2)\n",
        "print(newarry)"
      ],
      "execution_count": null,
      "outputs": [
        {
          "output_type": "stream",
          "text": [
            "[1 2 3]\n",
            "[4 5 6]\n",
            "[1 2 3 4 5 6]\n"
          ],
          "name": "stdout"
        }
      ]
    },
    {
      "cell_type": "code",
      "metadata": {
        "colab": {
          "base_uri": "https://localhost:8080/"
        },
        "id": "svPHZUj-u9Ji",
        "outputId": "e162d7e3-c0de-4624-afdf-9be7301f80d1"
      },
      "source": [
        "import numpy as np\n",
        "\n",
        "arr1 = np.array([1,2,3])\n",
        "arr2 = np.array([4,5,6])\n",
        "\n",
        "newarry = np.vstack((arr1,arr2))\n",
        "print(arr1)\n",
        "print(arr2)\n",
        "print(newarry)"
      ],
      "execution_count": null,
      "outputs": [
        {
          "output_type": "stream",
          "text": [
            "[1 2 3]\n",
            "[4 5 6]\n",
            "[[1 2 3]\n",
            " [4 5 6]]\n"
          ],
          "name": "stdout"
        }
      ]
    },
    {
      "cell_type": "code",
      "metadata": {
        "colab": {
          "base_uri": "https://localhost:8080/"
        },
        "id": "JPt0Ybt6wj6Y",
        "outputId": "9a0673e2-c40a-4f66-8d7f-55042b6e2e18"
      },
      "source": [
        "import numpy as np\n",
        "\n",
        "arr1 = np.array([1,2,3])\n",
        "arr2 = np.array([4,5,6])\n",
        "\n",
        "newarry = np.dstack((arr1,arr2))\n",
        "print(newarry)"
      ],
      "execution_count": null,
      "outputs": [
        {
          "output_type": "stream",
          "text": [
            "[[[1 4]\n",
            "  [2 5]\n",
            "  [3 6]]]\n"
          ],
          "name": "stdout"
        }
      ]
    },
    {
      "cell_type": "markdown",
      "metadata": {
        "id": "QDmNvHyVw69W"
      },
      "source": [
        "# split the given array"
      ]
    },
    {
      "cell_type": "code",
      "metadata": {
        "colab": {
          "base_uri": "https://localhost:8080/"
        },
        "id": "PZdfxm0EwvqJ",
        "outputId": "d52fcecb-f386-4c3d-d3ee-b856797223e4"
      },
      "source": [
        "import numpy as np\n",
        "arr = np.array([1,2,3,4,5,6])\n",
        "newarry = np.array_split(arr,3)\n",
        "print(newarry)"
      ],
      "execution_count": null,
      "outputs": [
        {
          "output_type": "stream",
          "text": [
            "[array([1, 2]), array([3, 4]), array([5, 6])]\n"
          ],
          "name": "stdout"
        }
      ]
    },
    {
      "cell_type": "code",
      "metadata": {
        "colab": {
          "base_uri": "https://localhost:8080/"
        },
        "id": "5kcZPkpWxX0q",
        "outputId": "d9460e60-891f-4fa3-b972-2a83f6985859"
      },
      "source": [
        "arr1 = np.array([1,2,3,4,5,6])\n",
        "newarry = np.array_split(arr,4)\n",
        "print(arr1)\n",
        "print(newarry)"
      ],
      "execution_count": null,
      "outputs": [
        {
          "output_type": "stream",
          "text": [
            "[1 2 3 4 5 6]\n",
            "[array([1, 2]), array([3, 4]), array([5]), array([6])]\n"
          ],
          "name": "stdout"
        }
      ]
    },
    {
      "cell_type": "code",
      "metadata": {
        "colab": {
          "base_uri": "https://localhost:8080/"
        },
        "id": "qbjdMAeZLCsn",
        "outputId": "d35fdee8-c7ab-4051-9b79-0c5f145a677a"
      },
      "source": [
        "import numpy as np\n",
        "arr = np.array([1,2,3,4,5,6])\n",
        "newarr=np.array_split(arr,3)\n",
        "print(newarr[0])\n",
        "print(newarr[1])\n",
        "print(newarr[2])"
      ],
      "execution_count": null,
      "outputs": [
        {
          "output_type": "stream",
          "text": [
            "[1 2]\n",
            "[3 4]\n",
            "[5 6]\n"
          ],
          "name": "stdout"
        }
      ]
    },
    {
      "cell_type": "code",
      "metadata": {
        "colab": {
          "base_uri": "https://localhost:8080/"
        },
        "id": "c2aYiSJ2LWmd",
        "outputId": "3597cf58-6d9e-44b4-e925-45c738712b8c"
      },
      "source": [
        "import numpy as np\n",
        "arr = np.array([1,2,3,4,5,6,7,8])\n",
        "newarr=np.where(arr==3)\n",
        "print(newarr)"
      ],
      "execution_count": null,
      "outputs": [
        {
          "output_type": "stream",
          "text": [
            "(array([2]),)\n"
          ],
          "name": "stdout"
        }
      ]
    },
    {
      "cell_type": "code",
      "metadata": {
        "colab": {
          "base_uri": "https://localhost:8080/"
        },
        "id": "IXCLXE1fLYyD",
        "outputId": "c12df27e-bfe7-4192-83c5-330ca289f69d"
      },
      "source": [
        "import numpy as np\n",
        "arr = np.array([1,2,3,4,5,6,4,4])\n",
        "newarr=np.where(arr==4)\n",
        "print(newarr)"
      ],
      "execution_count": null,
      "outputs": [
        {
          "output_type": "stream",
          "text": [
            "(array([3, 6, 7]),)\n"
          ],
          "name": "stdout"
        }
      ]
    },
    {
      "cell_type": "code",
      "metadata": {
        "id": "2lizShzjxvEq",
        "colab": {
          "base_uri": "https://localhost:8080/"
        },
        "outputId": "18599dfe-14af-4898-caa9-d91eb6fe126f"
      },
      "source": [
        "import numpy as np\n",
        "\n",
        "arr = np.array([1,2,3,4,5,4,4])\n",
        "\n",
        "newarr = np.where(arr%2 == 0)\n",
        "print(newarr)"
      ],
      "execution_count": null,
      "outputs": [
        {
          "output_type": "stream",
          "text": [
            "(array([1, 3, 5, 6]),)\n"
          ],
          "name": "stdout"
        }
      ]
    },
    {
      "cell_type": "code",
      "metadata": {
        "colab": {
          "base_uri": "https://localhost:8080/"
        },
        "id": "xxc1HB6Z02P2",
        "outputId": "255b9931-b2d7-4c69-e81b-93d73dffecd2"
      },
      "source": [
        "import numpy as np\n",
        "\n",
        "arr = np.array([1,2,3,4,5,6,7,8])\n",
        "\n",
        "newarr = np.where(arr%2 == 0)\n",
        "print(newarr)\n",
        "\n"
      ],
      "execution_count": null,
      "outputs": [
        {
          "output_type": "stream",
          "text": [
            "(array([1, 3, 5, 7]),)\n"
          ],
          "name": "stdout"
        }
      ]
    },
    {
      "cell_type": "code",
      "metadata": {
        "colab": {
          "base_uri": "https://localhost:8080/"
        },
        "id": "RQEq0AH20q9h",
        "outputId": "1de16aba-b041-4666-818d-522aa7fb4b36"
      },
      "source": [
        "import numpy as np\n",
        "\n",
        "arr = np.array([1,2,3,4,5,4,4])\n",
        "\n",
        "newarr = np.where(arr%2 == 1)\n",
        "print(newarr)"
      ],
      "execution_count": null,
      "outputs": [
        {
          "output_type": "stream",
          "text": [
            "(array([0, 2, 4]),)\n"
          ],
          "name": "stdout"
        }
      ]
    },
    {
      "cell_type": "code",
      "metadata": {
        "colab": {
          "base_uri": "https://localhost:8080/"
        },
        "id": "YsSgYo7T0wDJ",
        "outputId": "e6ecdee5-3cef-4b0d-af50-897ece7d2fec"
      },
      "source": [
        "import numpy as np\n",
        "\n",
        "arr = np.array([1,2,3,4,5,6,7,8])\n",
        "\n",
        "newarr = np.where(arr%2 == 1)\n",
        "print(newarr)"
      ],
      "execution_count": null,
      "outputs": [
        {
          "output_type": "stream",
          "text": [
            "(array([0, 2, 4, 6]),)\n"
          ],
          "name": "stdout"
        }
      ]
    },
    {
      "cell_type": "code",
      "metadata": {
        "colab": {
          "base_uri": "https://localhost:8080/"
        },
        "id": "SzmrMTiZ1FAi",
        "outputId": "0e6935f4-d5c2-4b38-ca4d-871711f6c5a9"
      },
      "source": [
        "import numpy as np\n",
        "\n",
        "arr = np.array([6,7,8,9])\n",
        "\n",
        "x = np.searchsorted(arr,7)\n",
        "print(x)"
      ],
      "execution_count": null,
      "outputs": [
        {
          "output_type": "stream",
          "text": [
            "1\n"
          ],
          "name": "stdout"
        }
      ]
    },
    {
      "cell_type": "code",
      "metadata": {
        "colab": {
          "base_uri": "https://localhost:8080/"
        },
        "id": "lCrs8sJf1l2S",
        "outputId": "11d9c45b-5b28-4d7a-d517-f4daffe17bb3"
      },
      "source": [
        "import numpy as np\n",
        "\n",
        "arr = np.array([6,7,8,9])\n",
        "\n",
        "x = np.searchsorted(arr,7,side = 'right')\n",
        "print(x)"
      ],
      "execution_count": null,
      "outputs": [
        {
          "output_type": "stream",
          "text": [
            "2\n"
          ],
          "name": "stdout"
        }
      ]
    },
    {
      "cell_type": "code",
      "metadata": {
        "colab": {
          "base_uri": "https://localhost:8080/"
        },
        "id": "YI80CAd_2ypg",
        "outputId": "b5c6f731-105c-4596-c9e8-759c89123da6"
      },
      "source": [
        "import numpy as np\n",
        "arr = np.array([1,3,7,9])\n",
        "filter_arr = arr>3\n",
        "newarr = arr[filter_arr]\n",
        "print(filter_arr)\n",
        "print(newarr)"
      ],
      "execution_count": null,
      "outputs": [
        {
          "output_type": "stream",
          "text": [
            "[False False  True  True]\n",
            "[7 9]\n"
          ],
          "name": "stdout"
        }
      ]
    },
    {
      "cell_type": "code",
      "metadata": {
        "colab": {
          "base_uri": "https://localhost:8080/"
        },
        "id": "uKUa4whZ66dl",
        "outputId": "72f8d6b3-1f3c-4571-c869-626f66463339"
      },
      "source": [
        "import matplotlib\n",
        "print(matplotlib._version)"
      ],
      "execution_count": null,
      "outputs": [
        {
          "output_type": "stream",
          "text": [
            "<module 'matplotlib._version' from '/usr/local/lib/python3.6/dist-packages/matplotlib/_version.py'>\n"
          ],
          "name": "stdout"
        }
      ]
    },
    {
      "cell_type": "code",
      "metadata": {
        "colab": {
          "base_uri": "https://localhost:8080/",
          "height": 265
        },
        "id": "B3HTy3UK5MyJ",
        "outputId": "d92f5259-1bfb-4d95-83c0-0ce32ce1e09a"
      },
      "source": [
        "import matplotlib.pyplot as plt\n",
        "import numpy as np\n",
        "xpoints = np.array([0,6])\n",
        "ypoints = np.array([0,6])\n",
        "\n",
        "plt.plot(xpoints,ypoints)\n",
        "plt.show()\n"
      ],
      "execution_count": null,
      "outputs": [
        {
          "output_type": "display_data",
          "data": {
            "image/png": "[encoded data removed]",
            "text/plain": [
              "<Figure size 432x288 with 1 Axes>"
            ]
          },
          "metadata": {
            "tags": [],
            "needs_background": "light"
          }
        }
      ]
    },
    {
      "cell_type": "code",
      "metadata": {
        "colab": {
          "base_uri": "https://localhost:8080/",
          "height": 265
        },
        "id": "fRiaSN2n6VFm",
        "outputId": "11f7e800-cb42-458b-edd4-e4a5f72c1688"
      },
      "source": [
        "import matplotlib.pyplot as plt\n",
        "import numpy as np\n",
        "xpoints = np.array([1,8])\n",
        "ypoints = np.array([3,10])\n",
        "\n",
        "plt.plot(xpoints,ypoints)\n",
        "plt.show()"
      ],
      "execution_count": null,
      "outputs": [
        {
          "output_type": "display_data",
          "data": {
            "image/png": "[encoded data removed]",
            "text/plain": [
              "<Figure size 432x288 with 1 Axes>"
            ]
          },
          "metadata": {
            "tags": [],
            "needs_background": "light"
          }
        }
      ]
    },
    {
      "cell_type": "code",
      "metadata": {
        "colab": {
          "base_uri": "https://localhost:8080/",
          "height": 265
        },
        "id": "Jvvzo2Te6jtT",
        "outputId": "6ebee254-099d-4d21-a31c-a55f6f325d02"
      },
      "source": [
        "import matplotlib.pyplot as plt\n",
        "import numpy as np\n",
        "xpoints = np.array([1,8])\n",
        "ypoints = np.array([3,10])\n",
        "\n",
        "plt.plot(xpoints,ypoints,'o')\n",
        "plt.show()"
      ],
      "execution_count": null,
      "outputs": [
        {
          "output_type": "display_data",
          "data": {
            "image/png": "[encoded data removed]",
            "text/plain": [
              "<Figure size 432x288 with 1 Axes>"
            ]
          },
          "metadata": {
            "tags": [],
            "needs_background": "light"
          }
        }
      ]
    },
    {
      "cell_type": "code",
      "metadata": {
        "colab": {
          "base_uri": "https://localhost:8080/",
          "height": 265
        },
        "id": "ywiNXEz1729L",
        "outputId": "f3feb928-2f8f-405e-cafe-9323fb8fa958"
      },
      "source": [
        "import matplotlib.pyplot as plt\n",
        "import numpy as np\n",
        "xpoints = np.array([1,2,6,8])\n",
        "ypoints = np.array([3,8,1,10])\n",
        "\n",
        "plt.plot(xpoints,ypoints)\n",
        "plt.show()"
      ],
      "execution_count": null,
      "outputs": [
        {
          "output_type": "display_data",
          "data": {
            "image/png": "[encoded data removed]",
            "text/plain": [
              "<Figure size 432x288 with 1 Axes>"
            ]
          },
          "metadata": {
            "tags": [],
            "needs_background": "light"
          }
        }
      ]
    },
    {
      "cell_type": "code",
      "metadata": {
        "colab": {
          "base_uri": "https://localhost:8080/",
          "height": 265
        },
        "id": "5pXK980i8HA6",
        "outputId": "415e6a3d-b4d2-410a-e44d-761d0b620cca"
      },
      "source": [
        "import matplotlib.pyplot as plt\n",
        "import numpy as np\n",
        "xpoints = np.array([1,2,6,8])\n",
        "ypoints = np.array([3,8,1,10])\n",
        "\n",
        "plt.plot(xpoints,ypoints,'o')\n",
        "plt.show()"
      ],
      "execution_count": null,
      "outputs": [
        {
          "output_type": "display_data",
          "data": {
            "image/png": "[encoded data removed]",
            "text/plain": [
              "<Figure size 432x288 with 1 Axes>"
            ]
          },
          "metadata": {
            "tags": [],
            "needs_background": "light"
          }
        }
      ]
    },
    {
      "cell_type": "code",
      "metadata": {
        "colab": {
          "base_uri": "https://localhost:8080/",
          "height": 265
        },
        "id": "74DNxSr_8LRz",
        "outputId": "d26e52a7-ff21-440a-888f-bd86cf0c3c07"
      },
      "source": [
        "import matplotlib.pyplot as plt\n",
        "import numpy as np\n",
        "xpoints = np.array([1,2,6,8,9,10,11,22,30,34,40])\n",
        "\n",
        "plt.plot(xpoints)\n",
        "plt.show()"
      ],
      "execution_count": null,
      "outputs": [
        {
          "output_type": "display_data",
          "data": {
            "image/png": "[encoded data removed]",
            "text/plain": [
              "<Figure size 432x288 with 1 Axes>"
            ]
          },
          "metadata": {
            "tags": [],
            "needs_background": "light"
          }
        }
      ]
    },
    {
      "cell_type": "code",
      "metadata": {
        "colab": {
          "base_uri": "https://localhost:8080/",
          "height": 265
        },
        "id": "gPRdQFOq8ogb",
        "outputId": "36ce6a23-1da2-4935-e746-f46e0f6acdb6"
      },
      "source": [
        "import matplotlib.pyplot as plt\n",
        "import numpy as np\n",
        "xpoints = np.array([1,2,6,8,9,10,11,22,30,34,40])\n",
        "\n",
        "plt.plot(xpoints,marker = 'o')\n",
        "plt.show()"
      ],
      "execution_count": null,
      "outputs": [
        {
          "output_type": "display_data",
          "data": {
            "image/png": "[encoded data removed]",
            "text/plain": [
              "<Figure size 432x288 with 1 Axes>"
            ]
          },
          "metadata": {
            "tags": [],
            "needs_background": "light"
          }
        }
      ]
    },
    {
      "cell_type": "code",
      "metadata": {
        "colab": {
          "base_uri": "https://localhost:8080/",
          "height": 265
        },
        "id": "80IbAMJe8w6F",
        "outputId": "c01f6902-dc60-4734-de30-10e7d86b9b41"
      },
      "source": [
        "import matplotlib.pyplot as plt\n",
        "import numpy as np\n",
        "xpoints = np.array([1,2,6,8,9,10,11,22,30,34,40])\n",
        "\n",
        "plt.plot(xpoints,marker = '*')\n",
        "plt.show()"
      ],
      "execution_count": null,
      "outputs": [
        {
          "output_type": "display_data",
          "data": {
            "image/png": "[encoded data removed]",
            "text/plain": [
              "<Figure size 432x288 with 1 Axes>"
            ]
          },
          "metadata": {
            "tags": [],
            "needs_background": "light"
          }
        }
      ]
    },
    {
      "cell_type": "code",
      "metadata": {
        "colab": {
          "base_uri": "https://localhost:8080/",
          "height": 265
        },
        "id": "AypV7YB99Ctx",
        "outputId": "6ab454df-19a7-4c37-a23e-f5402326500c"
      },
      "source": [
        "import matplotlib.pyplot as plt\n",
        "import numpy as np\n",
        "xpoints = np.array([1,2,6,8,9,10,11,22,30,34,40])\n",
        "\n",
        "plt.plot(xpoints, 'o:r')\n",
        "plt.show()"
      ],
      "execution_count": null,
      "outputs": [
        {
          "output_type": "display_data",
          "data": {
            "image/png": "[encoded data removed]",
            "text/plain": [
              "<Figure size 432x288 with 1 Axes>"
            ]
          },
          "metadata": {
            "tags": [],
            "needs_background": "light"
          }
        }
      ]
    },
    {
      "cell_type": "code",
      "metadata": {
        "colab": {
          "base_uri": "https://localhost:8080/",
          "height": 265
        },
        "id": "wdJqVqbl9cB5",
        "outputId": "94327ecd-218f-4f27-f267-c1098cc63390"
      },
      "source": [
        "import matplotlib.pyplot as plt\n",
        "import numpy as np\n",
        "xpoints = np.array([1,2,6,8,9,10,11,22,30,34,40])\n",
        "\n",
        "plt.plot(xpoints, 'o-r')\n",
        "plt.show()"
      ],
      "execution_count": null,
      "outputs": [
        {
          "output_type": "display_data",
          "data": {
            "image/png": "[encoded data removed]",
            "text/plain": [
              "<Figure size 432x288 with 1 Axes>"
            ]
          },
          "metadata": {
            "tags": [],
            "needs_background": "light"
          }
        }
      ]
    },
    {
      "cell_type": "code",
      "metadata": {
        "colab": {
          "base_uri": "https://localhost:8080/",
          "height": 265
        },
        "id": "SUlNnLip9kRh",
        "outputId": "3f264610-7ef7-4dfa-88a6-81cd5b97ec0e"
      },
      "source": [
        "import matplotlib.pyplot as plt\n",
        "import numpy as np\n",
        "xpoints = np.array([1,2,6,8,9,10,11,22,30,34,40])\n",
        "\n",
        "plt.plot(xpoints, 'o-.r')\n",
        "plt.show()"
      ],
      "execution_count": null,
      "outputs": [
        {
          "output_type": "display_data",
          "data": {
            "image/png": "[encoded data removed]",
            "text/plain": [
              "<Figure size 432x288 with 1 Axes>"
            ]
          },
          "metadata": {
            "tags": [],
            "needs_background": "light"
          }
        }
      ]
    },
    {
      "cell_type": "code",
      "metadata": {
        "colab": {
          "base_uri": "https://localhost:8080/",
          "height": 265
        },
        "id": "BIKLdnoA9quh",
        "outputId": "f31a493c-8d98-4c93-9134-f1c12a614ab2"
      },
      "source": [
        "import matplotlib.pyplot as plt\n",
        "import numpy as np\n",
        "xpoints = np.array([1,2,6,8,9,10,11,22,30,34,40])\n",
        "\n",
        "plt.plot(xpoints, 'o--r')\n",
        "plt.show()"
      ],
      "execution_count": null,
      "outputs": [
        {
          "output_type": "display_data",
          "data": {
            "image/png": "[encoded data removed]",
            "text/plain": [
              "<Figure size 432x288 with 1 Axes>"
            ]
          },
          "metadata": {
            "tags": [],
            "needs_background": "light"
          }
        }
      ]
    },
    {
      "cell_type": "code",
      "metadata": {
        "colab": {
          "base_uri": "https://localhost:8080/",
          "height": 265
        },
        "id": "6bJa8qiS97Es",
        "outputId": "daf6e47e-f909-4070-8fea-2e2715904222"
      },
      "source": [
        "import matplotlib.pyplot as plt\n",
        "import numpy as np\n",
        "x = np.array([0,1,2,3])\n",
        "y = np.array([3,5,2,10])\n",
        "\n",
        "plt.subplot(1,2,1)\n",
        "plt.plot(x,y)\n",
        "\n",
        "import matplotlib.pyplot as plt\n",
        "import numpy as np\n",
        "x = np.array([0,1,2,3])\n",
        "y = np.array([13,25,32,40])\n",
        "\n",
        "plt.subplot(1,2,2)\n",
        "plt.plot(x,y)\n",
        "\n",
        "plt.show()"
      ],
      "execution_count": null,
      "outputs": [
        {
          "output_type": "display_data",
          "data": {
            "image/png": "[encoded data removed]",
            "text/plain": [
              "<Figure size 432x288 with 2 Axes>"
            ]
          },
          "metadata": {
            "tags": [],
            "needs_background": "light"
          }
        }
      ]
    },
    {
      "cell_type": "code",
      "metadata": {
        "colab": {
          "base_uri": "https://localhost:8080/",
          "height": 147
        },
        "id": "4UZE3m1q-1Ql",
        "outputId": "f18dea40-9799-4b61-9888-88ee3a311e10"
      },
      "source": [
        "import matplotlib.pyplot as plt\n",
        "import numpy as np\n",
        "x = np.array([0,1,2,3])\n",
        "y = np.array([3,5,2,10])\n",
        "\n",
        "plt.subplot(2,2,1)\n",
        "plt.plot(x,y)\n",
        "\n",
        "import matplotlib.pyplot as plt\n",
        "import numpy as np\n",
        "x = np.array([0,1,2,3])\n",
        "y = np.array([13,25,32,40])\n",
        "\n",
        "plt.subplot(2,2,2)\n",
        "plt.plot(x,y)\n",
        "\n",
        "plt.show()"
      ],
      "execution_count": null,
      "outputs": [
        {
          "output_type": "display_data",
          "data": {
            "image/png": "[encoded data removed]",
            "text/plain": [
              "<Figure size 432x288 with 2 Axes>"
            ]
          },
          "metadata": {
            "tags": [],
            "needs_background": "light"
          }
        }
      ]
    },
    {
      "cell_type": "code",
      "metadata": {
        "colab": {
          "base_uri": "https://localhost:8080/",
          "height": 265
        },
        "id": "5t-_b_Zf_Iqh",
        "outputId": "879078ad-61a8-4632-e10b-b62b04f24468"
      },
      "source": [
        "import matplotlib.pyplot as plt\n",
        "import numpy as np\n",
        "x = np.array([0,1,2,3])\n",
        "y = np.array([3,5,2,10])\n",
        "\n",
        "plt.subplot(2,1,1)\n",
        "plt.plot(x,y)\n",
        "\n",
        "import matplotlib.pyplot as plt\n",
        "import numpy as np\n",
        "x = np.array([0,1,2,3])\n",
        "y = np.array([13,25,32,40])\n",
        "\n",
        "plt.subplot(2,1,2)\n",
        "plt.plot(x,y)\n",
        "\n",
        "plt.show()"
      ],
      "execution_count": null,
      "outputs": [
        {
          "output_type": "display_data",
          "data": {
            "image/png": "[encoded data removed]",
            "text/plain": [
              "<Figure size 432x288 with 2 Axes>"
            ]
          },
          "metadata": {
            "tags": [],
            "needs_background": "light"
          }
        }
      ]
    },
    {
      "cell_type": "code",
      "metadata": {
        "colab": {
          "base_uri": "https://localhost:8080/",
          "height": 265
        },
        "id": "cdB0vBDg_aLN",
        "outputId": "e42756b8-6624-4a95-bef2-603606513fd9"
      },
      "source": [
        "import matplotlib.pyplot as plt\n",
        "import numpy as np\n",
        "x = np.array([0,1,2,3])\n",
        "y = np.array([3,5,2,10])\n",
        "\n",
        "plt.subplot(2,3,1)\n",
        "plt.plot(x,y)\n",
        "\n",
        "\n",
        "x = np.array([0,1,2,3])\n",
        "y = np.array([13,25,32,40])\n",
        "\n",
        "plt.subplot(2,3,2)\n",
        "plt.plot(x,y)\n",
        "\n",
        "\n",
        "x = np.array([0,1,2,3])\n",
        "y = np.array([23,45,32,33])\n",
        "\n",
        "plt.subplot(2,3,3)\n",
        "plt.plot(x,y)\n",
        "\n",
        "\n",
        "x = np.array([0,1,2,3])\n",
        "y = np.array([17,27,35,42])\n",
        "\n",
        "plt.subplot(2,3,4)\n",
        "plt.plot(x,y)\n",
        "\n",
        "x = np.array([0,1,2,3])\n",
        "y = np.array([20,25,32,48])\n",
        "\n",
        "plt.subplot(2,3,5)\n",
        "plt.plot(x,y)\n",
        "\n",
        "x = np.array([0,1,2,3])\n",
        "y = np.array([11,21,31,40])\n",
        "\n",
        "plt.subplot(2,3,6)\n",
        "plt.plot(x,y)\n",
        "plt.show()"
      ],
      "execution_count": null,
      "outputs": [
        {
          "output_type": "display_data",
          "data": {
            "image/png": "[encoded data removed]",
            "text/plain": [
              "<Figure size 432x288 with 6 Axes>"
            ]
          },
          "metadata": {
            "tags": [],
            "needs_background": "light"
          }
        }
      ]
    },
    {
      "cell_type": "code",
      "metadata": {
        "colab": {
          "base_uri": "https://localhost:8080/",
          "height": 281
        },
        "id": "M1fg7EcSAzVp",
        "outputId": "684cc89e-2b45-4804-fbea-92038f0e87e2"
      },
      "source": [
        "import matplotlib.pyplot as plt\n",
        "import numpy as np\n",
        "x = np.array([0,1,2,3])\n",
        "y = np.array([3,5,2,10])\n",
        "\n",
        "plt.subplot(1,2,1)\n",
        "plt.plot(x,y)\n",
        "plt.title('SALES')\n",
        "\n",
        "\n",
        "x = np.array([0,1,2,3])\n",
        "y = np.array([13,25,32,40])\n",
        "\n",
        "plt.subplot(1,2,2)\n",
        "plt.plot(x,y)\n",
        "plt.title('INCOME')\n",
        "\n",
        "plt.show()"
      ],
      "execution_count": null,
      "outputs": [
        {
          "output_type": "display_data",
          "data": {
            "image/png": "[encoded data removed]",
            "text/plain": [
              "<Figure size 432x288 with 2 Axes>"
            ]
          },
          "metadata": {
            "tags": [],
            "needs_background": "light"
          }
        }
      ]
    },
    {
      "cell_type": "code",
      "metadata": {
        "colab": {
          "base_uri": "https://localhost:8080/",
          "height": 294
        },
        "id": "4bnZ1LHjBPBK",
        "outputId": "8f60b647-57cd-49ee-d0ad-3a8559661872"
      },
      "source": [
        "import matplotlib.pyplot as plt\n",
        "import numpy as np\n",
        "x = np.array([0,1,2,3])\n",
        "y = np.array([3,5,2,10])\n",
        "\n",
        "plt.subplot(1,2,1)\n",
        "plt.plot(x,y)\n",
        "plt.title('SALES')\n",
        "\n",
        "x = np.array([0,1,2,3])\n",
        "y = np.array([13,25,32,40])\n",
        "\n",
        "plt.subplot(1,2,2)\n",
        "plt.plot(x,y)\n",
        "plt.title('INCOME')\n",
        "\n",
        "plt.suptitle(\"Workshop of Acharya College\")\n",
        "\n",
        "plt.show()"
      ],
      "execution_count": null,
      "outputs": [
        {
          "output_type": "display_data",
          "data": {
            "image/png": "[encoded data removed]",
            "text/plain": [
              "<Figure size 432x288 with 2 Axes>"
            ]
          },
          "metadata": {
            "tags": [],
            "needs_background": "light"
          }
        }
      ]
    },
    {
      "cell_type": "code",
      "metadata": {
        "colab": {
          "base_uri": "https://localhost:8080/",
          "height": 281
        },
        "id": "4gZdhOZ7Bvm7",
        "outputId": "ecb19b63-6bf7-4589-fe99-51c7a484470f"
      },
      "source": [
        "import matplotlib.pyplot as plt\n",
        "import numpy as np\n",
        "\n",
        "x = np.array([0,1,2,3,3,4,5,5,5,6,7,3,8,9,5,7,2,2])\n",
        "y = np.array([3,5,2,10,1,1,1,1,1,1,2,3,3,3,3,4,4,5])\n",
        "\n",
        "plt.scatter(x,y)\n",
        "plt.title('scatter plot')\n",
        "plt.show()"
      ],
      "execution_count": null,
      "outputs": [
        {
          "output_type": "display_data",
          "data": {
            "image/png": "[encoded data removed]",
            "text/plain": [
              "<Figure size 432x288 with 1 Axes>"
            ]
          },
          "metadata": {
            "tags": [],
            "needs_background": "light"
          }
        }
      ]
    },
    {
      "cell_type": "code",
      "metadata": {
        "id": "xJ4sQLgsCqzD",
        "colab": {
          "base_uri": "https://localhost:8080/",
          "height": 281
        },
        "outputId": "34a6375f-0f99-4478-c4e8-3c3d95854fc8"
      },
      "source": [
        "import matplotlib.pyplot as plt\n",
        "import numpy as np\n",
        "\n",
        "x = np.array([0,1,2,3,3,4,5,5,5,6,7,3,8,9,5,7,2,2])\n",
        "y = np.array([3,5,2,10,1,1,1,1,1,1,2,3,3,3,3,4,4,5])\n",
        "plt.scatter(x,y)\n",
        "\n",
        "x = np.array([0,11,12,13,3,14,5,15,15,6,17,31,18,19,5,7,2,2])\n",
        "y = np.array([3,5,2,10,16,15,51,13,14,11,12,3,3,13,3,41,4,15])\n",
        "plt.scatter(x,y)\n",
        "plt.title('scatter plot')\n",
        "plt.show()import matplotlib.pyplot as plt\n"
      ],
      "execution_count": null,
      "outputs": [
        {
          "output_type": "display_data",
          "data": {
            "image/png": "[encoded data removed]",
            "text/plain": [
              "<Figure size 432x288 with 1 Axes>"
            ]
          },
          "metadata": {
            "tags": [],
            "needs_background": "light"
          }
        }
      ]
    },
    {
      "cell_type": "code",
      "metadata": {
        "colab": {
          "base_uri": "https://localhost:8080/",
          "height": 281
        },
        "id": "c0cozRIcD7Ou",
        "outputId": "cd8c5939-8d06-4a6c-a20c-67958a0d16dd"
      },
      "source": [
        "import matplotlib.pyplot as plt\n",
        "import numpy as np\n",
        "\n",
        "x = np.array([0,1,2,3,3,4,5,5,5,6,7,3,8,9,5,7,2,2])\n",
        "y = np.array([3,5,2,10,1,1,1,1,1,1,2,3,3,3,3,4,4,5])\n",
        "plt.scatter(x,y, color = 'hotpink')\n",
        "\n",
        "x = np.array([0,11,12,13,3,14,5,15,15,6,17,31,18,19,5,7,2,2])\n",
        "y = np.array([3,5,2,10,16,15,51,13,14,11,12,3,3,13,3,41,4,15])\n",
        "plt.scatter(x,y,color = 'red')\n",
        "plt.title('scatter plot')\n",
        "plt.show()"
      ],
      "execution_count": null,
      "outputs": [
        {
          "output_type": "display_data",
          "data": {
            "image/png": "[encoded data removed]",
            "text/plain": [
              "<Figure size 432x288 with 1 Axes>"
            ]
          },
          "metadata": {
            "tags": [],
            "needs_background": "light"
          }
        }
      ]
    },
    {
      "cell_type": "markdown",
      "metadata": {
        "id": "BG4houovDx91"
      },
      "source": [
        "# 9-12"
      ]
    },
    {
      "cell_type": "code",
      "metadata": {
        "id": "nwWDQqbGEaFb",
        "colab": {
          "base_uri": "https://localhost:8080/",
          "height": 265
        },
        "outputId": "a0c8fc75-0723-4720-feef-ca8fa3c64d84"
      },
      "source": [
        "import matplotlib.pyplot as plt\r\n",
        "import numpy as np\r\n",
        "x=np.array([22,5,7,55,6,99,11,15,16,15])\r\n",
        "y=np.array([22,55,100,16,18,17,13,10,3,1])\r\n",
        "colors=np.array([0,10,20,30,40,50,60,70,80,90])\r\n",
        "plt.scatter(x,y, c=colors , cmap='viridis')\r\n",
        "plt.show()"
      ],
      "execution_count": null,
      "outputs": [
        {
          "output_type": "display_data",
          "data": {
            "image/png": "[encoded data removed]",
            "text/plain": [
              "<Figure size 432x288 with 1 Axes>"
            ]
          },
          "metadata": {
            "tags": [],
            "needs_background": "light"
          }
        }
      ]
    },
    {
      "cell_type": "code",
      "metadata": {
        "colab": {
          "base_uri": "https://localhost:8080/",
          "height": 269
        },
        "id": "iDmJ7e2cD8pQ",
        "outputId": "be5d3ac1-7877-446e-f14c-659a1e599fa9"
      },
      "source": [
        "import matplotlib.pyplot as plt\r\n",
        "import numpy as np\r\n",
        "x=np.array([22,5,7,55,6,99,11,15,16,15])\r\n",
        "y=np.array([22,55,100,16,18,17,13,10,3,1])\r\n",
        "colors=np.array([0,10,20,30,40,50,60,70,80,90])\r\n",
        "plt.scatter(x,y, c=colors , cmap='Accent')\r\n",
        "plt.colorbar()\r\n",
        "plt.show()"
      ],
      "execution_count": null,
      "outputs": [
        {
          "output_type": "display_data",
          "data": {
            "image/png": "[encoded data removed]",
            "text/plain": [
              "<Figure size 432x288 with 2 Axes>"
            ]
          },
          "metadata": {
            "tags": [],
            "needs_background": "light"
          }
        }
      ]
    },
    {
      "cell_type": "markdown",
      "metadata": {
        "id": "lQxYN-eDEF21"
      },
      "source": [
        "Accent, Blues, BrBG, BUGn, BuPu, CMRmap, Dark2, GnBu, Greens, Greys"
      ]
    },
    {
      "cell_type": "code",
      "metadata": {
        "colab": {
          "base_uri": "https://localhost:8080/",
          "height": 269
        },
        "id": "Fe1xySlqECBI",
        "outputId": "dd30f4e7-f8f7-4d18-9154-be9428821309"
      },
      "source": [
        "import matplotlib.pyplot as plt\r\n",
        "import numpy as np\r\n",
        "x=np.array([22,5,7,55,6,99,11,15,16,15])\r\n",
        "y=np.array([22,55,100,16,18,17,13,10,3,1])\r\n",
        "sizes=np.array([0,10,20,30,40,50,60,70,80,90])\r\n",
        "plt.scatter(x,y, s=sizes)\r\n",
        "plt.colorbar()\r\n",
        "plt.show()"
      ],
      "execution_count": null,
      "outputs": [
        {
          "output_type": "display_data",
          "data": {
            "image/png": "[encoded data removed]",
            "text/plain": [
              "<Figure size 432x288 with 2 Axes>"
            ]
          },
          "metadata": {
            "tags": [],
            "needs_background": "light"
          }
        }
      ]
    },
    {
      "cell_type": "code",
      "metadata": {
        "colab": {
          "base_uri": "https://localhost:8080/",
          "height": 269
        },
        "id": "hMDZGmDHEKto",
        "outputId": "1ee77b0b-9d03-4868-a5d0-25022e82fa3b"
      },
      "source": [
        "import matplotlib.pyplot as plt\r\n",
        "import numpy as np\r\n",
        "x=np.array([22,5,7,55,6,99,11,15,16,15])\r\n",
        "y=np.array([22,55,100,16,18,17,13,10,3,1])\r\n",
        "sizes=np.array([0,10,20,30,40,50,60,70,80,90])\r\n",
        "plt.scatter(x,y, s=sizes)\r\n",
        "plt.colorbar()\r\n",
        "plt.show()"
      ],
      "execution_count": null,
      "outputs": [
        {
          "output_type": "display_data",
          "data": {
            "image/png": "[encoded data removed]",
            "text/plain": [
              "<Figure size 432x288 with 2 Axes>"
            ]
          },
          "metadata": {
            "tags": [],
            "needs_background": "light"
          }
        }
      ]
    },
    {
      "cell_type": "code",
      "metadata": {
        "colab": {
          "base_uri": "https://localhost:8080/",
          "height": 265
        },
        "id": "bq45j6F9ES0F",
        "outputId": "339badf7-3ee6-40d3-c9a2-b6ec986810ab"
      },
      "source": [
        "import matplotlib.pyplot as plt\r\n",
        "import numpy as np\r\n",
        "x=np.random.randint(100,size=(100))\r\n",
        "y=np.random.randint(100,size=(100))\r\n",
        "colors=np.random.randint(100,size=(100))\r\n",
        "sizes=10*np.random.randint(100,size=(100))\r\n",
        "plt.scatter(x,y,c=colors, s=sizes,alpha=0.7,cmap='nipy_spectral')\r\n",
        "plt.colorbar()\r\n",
        "plt.show()"
      ],
      "execution_count": null,
      "outputs": [
        {
          "output_type": "display_data",
          "data": {
            "image/png": "[encoded data removed]",
            "text/plain": [
              "<Figure size 432x288 with 2 Axes>"
            ]
          },
          "metadata": {
            "tags": [],
            "needs_background": "light"
          }
        }
      ]
    },
    {
      "cell_type": "markdown",
      "metadata": {
        "id": "rDNGxCYcEZ30"
      },
      "source": [
        "# Bar plots/charts"
      ]
    },
    {
      "cell_type": "code",
      "metadata": {
        "colab": {
          "base_uri": "https://localhost:8080/",
          "height": 265
        },
        "id": "r4Q_Su06EWow",
        "outputId": "676e9696-1d58-4875-d4e1-6b4c4d5ad75b"
      },
      "source": [
        "import matplotlib.pyplot as plt\r\n",
        "import numpy as np\r\n",
        "x=np.array(['A','B','C','D'])\r\n",
        "y=np.array([23,15,25,20])\r\n",
        "plt.bar(x,y)\r\n",
        "plt.show()"
      ],
      "execution_count": null,
      "outputs": [
        {
          "output_type": "display_data",
          "data": {
            "image/png": "[encoded data removed]",
            "text/plain": [
              "<Figure size 432x288 with 1 Axes>"
            ]
          },
          "metadata": {
            "tags": [],
            "needs_background": "light"
          }
        }
      ]
    },
    {
      "cell_type": "code",
      "metadata": {
        "colab": {
          "base_uri": "https://localhost:8080/",
          "height": 265
        },
        "id": "Sl-CoHFGEfDH",
        "outputId": "61d3a3fb-ed52-49e5-e511-976a39cec640"
      },
      "source": [
        "import matplotlib.pyplot as plt\r\n",
        "import numpy as np\r\n",
        "x=np.array(['A','B','C','D'])\r\n",
        "y=np.array([23,15,25,20])\r\n",
        "plt.barh(x,y)\r\n",
        "plt.show()"
      ],
      "execution_count": null,
      "outputs": [
        {
          "output_type": "display_data",
          "data": {
            "image/png": "[encoded data removed]",
            "text/plain": [
              "<Figure size 432x288 with 1 Axes>"
            ]
          },
          "metadata": {
            "tags": [],
            "needs_background": "light"
          }
        }
      ]
    },
    {
      "cell_type": "code",
      "metadata": {
        "colab": {
          "base_uri": "https://localhost:8080/",
          "height": 265
        },
        "id": "1oVI3hqaEkP4",
        "outputId": "50cf85ba-8827-4719-f5a0-a196aabd5463"
      },
      "source": [
        "import matplotlib.pyplot as plt\r\n",
        "import numpy as np\r\n",
        "x=np.array(['A','B','C','D'])\r\n",
        "y=np.array([23,15,25,20])\r\n",
        "plt.bar(x,y, color='red')\r\n",
        "plt.show()"
      ],
      "execution_count": null,
      "outputs": [
        {
          "output_type": "display_data",
          "data": {
            "image/png": "[encoded data removed]",
            "text/plain": [
              "<Figure size 432x288 with 1 Axes>"
            ]
          },
          "metadata": {
            "tags": [],
            "needs_background": "light"
          }
        }
      ]
    },
    {
      "cell_type": "code",
      "metadata": {
        "colab": {
          "base_uri": "https://localhost:8080/",
          "height": 265
        },
        "id": "MYTsAt9DEnzX",
        "outputId": "3715f952-f447-4a22-e29e-c2d7854bf952"
      },
      "source": [
        "import matplotlib.pyplot as plt\r\n",
        "import numpy as np\r\n",
        "x=np.array(['A','B','C','D'])\r\n",
        "y=np.array([23,15,25,20])\r\n",
        "plt.barh(x,y, color='red')\r\n",
        "plt.show()"
      ],
      "execution_count": null,
      "outputs": [
        {
          "output_type": "display_data",
          "data": {
            "image/png": "[encoded data removed]",
            "text/plain": [
              "<Figure size 432x288 with 1 Axes>"
            ]
          },
          "metadata": {
            "tags": [],
            "needs_background": "light"
          }
        }
      ]
    },
    {
      "cell_type": "code",
      "metadata": {
        "colab": {
          "base_uri": "https://localhost:8080/",
          "height": 265
        },
        "id": "WXWoDJyPEqp1",
        "outputId": "d62cad18-fcc7-421a-9d18-148acff5ea56"
      },
      "source": [
        "import matplotlib.pyplot as plt\r\n",
        "import numpy as np\r\n",
        "x=np.array(['A','B','C','D'])\r\n",
        "y=np.array([23,15,25,20])\r\n",
        "plt.bar(x,y, color='green')\r\n",
        "plt.show()"
      ],
      "execution_count": null,
      "outputs": [
        {
          "output_type": "display_data",
          "data": {
            "image/png": "[encoded data removed]",
            "text/plain": [
              "<Figure size 432x288 with 1 Axes>"
            ]
          },
          "metadata": {
            "tags": [],
            "needs_background": "light"
          }
        }
      ]
    },
    {
      "cell_type": "code",
      "metadata": {
        "colab": {
          "base_uri": "https://localhost:8080/",
          "height": 265
        },
        "id": "2mta71faEuKZ",
        "outputId": "7e86c404-fe25-4a6a-ae6b-16090a9383a9"
      },
      "source": [
        "import matplotlib.pyplot as plt\r\n",
        "import numpy as np\r\n",
        "x=np.array(['A','B','C','D'])\r\n",
        "y=np.array([23,15,25,20])\r\n",
        "plt.bar(x,y, width=0.1 )\r\n",
        "plt.show()"
      ],
      "execution_count": null,
      "outputs": [
        {
          "output_type": "display_data",
          "data": {
            "image/png": "[encoded data removed]",
            "text/plain": [
              "<Figure size 432x288 with 1 Axes>"
            ]
          },
          "metadata": {
            "tags": [],
            "needs_background": "light"
          }
        }
      ]
    },
    {
      "cell_type": "code",
      "metadata": {
        "colab": {
          "base_uri": "https://localhost:8080/",
          "height": 265
        },
        "id": "rl7O_NPCExTN",
        "outputId": "3c196680-0d77-4592-9c22-1a0a50e46498"
      },
      "source": [
        "import matplotlib.pyplot as plt\r\n",
        "import numpy as np\r\n",
        "x=np.array(['A','B','C','D'])\r\n",
        "y=np.array([23,15,25,20])\r\n",
        "plt.barh(x,y, height=0.1)\r\n",
        "plt.show()"
      ],
      "execution_count": null,
      "outputs": [
        {
          "output_type": "display_data",
          "data": {
            "image/png": "[encoded data removed]",
            "text/plain": [
              "<Figure size 432x288 with 1 Axes>"
            ]
          },
          "metadata": {
            "tags": [],
            "needs_background": "light"
          }
        }
      ]
    },
    {
      "cell_type": "code",
      "metadata": {
        "colab": {
          "base_uri": "https://localhost:8080/"
        },
        "id": "h_3p3mGDE0gX",
        "outputId": "2cfa8afd-81b9-4705-92e8-fcd17d401558"
      },
      "source": [
        "import numpy as np\r\n",
        "x=np.random.normal(170,10,250)\r\n",
        "print(x)"
      ],
      "execution_count": null,
      "outputs": [
        {
          "output_type": "stream",
          "text": [
            "[157.89969466 166.66199287 173.22785107 166.25883796 174.42110208\n",
            " 177.60793197 175.01246279 170.48039239 163.31924935 177.67117317\n",
            " 175.90601793 170.59005933 158.25856446 170.354666   162.57542347\n",
            " 160.28326315 172.19086229 173.55892207 162.58560362 159.56421312\n",
            " 178.41896746 164.72910542 184.410074   153.10347316 173.30921075\n",
            " 176.45878344 179.08420892 169.17627432 175.25433298 184.67065828\n",
            " 167.15435428 183.51433737 166.13521894 159.33849088 170.48641862\n",
            " 183.56981983 181.75568585 184.60869829 153.61586696 158.94992671\n",
            " 148.90190828 162.11196177 158.87602096 181.56144985 164.59447751\n",
            " 181.81992899 171.15784774 166.97658816 158.00870872 146.98792061\n",
            " 168.89550812 170.41649169 158.14167992 173.4023004  203.02215607\n",
            " 172.29546529 158.95753483 167.7771757  194.64454953 168.75788308\n",
            " 179.53682468 162.34838076 173.89384506 183.58802988 175.19614692\n",
            " 167.30795758 171.56358485 183.88211032 160.43650946 163.79290354\n",
            " 168.38851201 175.88507454 166.82659077 189.87295088 162.39500304\n",
            " 157.75034492 170.42105943 164.42789988 180.38290216 167.47686937\n",
            " 154.57616314 173.20359724 173.48106365 162.11782605 168.01536394\n",
            " 188.80154492 150.6597106  176.97793928 169.971308   159.52293664\n",
            " 171.11081411 149.64269635 183.34036143 178.80062796 171.98654348\n",
            " 164.56019582 172.35804307 194.59359809 165.99321466 178.76971593\n",
            " 143.78243426 170.35865984 161.90815588 178.95687244 156.80464731\n",
            " 184.18689252 172.32949098 167.41049397 151.6936697  177.27992984\n",
            " 182.95679155 163.92128734 178.04657701 172.52997929 175.23454531\n",
            " 177.82446256 179.3436269  175.73974264 175.18942822 170.4629772\n",
            " 169.05842568 186.46234878 182.18803182 173.51955699 155.09260175\n",
            " 174.4642529  177.60603024 186.91720825 187.70590341 174.30604644\n",
            " 159.36151295 177.21583586 159.36855893 164.05471079 175.22744581\n",
            " 190.806112   153.91507509 186.72375895 159.52670565 149.02356973\n",
            " 189.48318648 178.54965457 185.16116294 162.93828102 169.30138424\n",
            " 176.12764267 172.80539718 180.03687068 163.41544461 163.57406151\n",
            " 165.85170701 181.96955843 169.53179599 168.57790196 184.03519534\n",
            " 170.24859896 168.65386915 157.89008712 168.32559701 181.89287301\n",
            " 184.88037369 163.5414492  201.04667486 173.88393423 163.52386295\n",
            " 183.05749602 159.15991614 173.8143395  193.53589725 156.76889502\n",
            " 154.18452336 165.41451096 183.35682544 177.15179412 173.45101693\n",
            " 163.31447308 152.58217907 182.8851274  162.11704215 164.3852156\n",
            " 165.60204601 183.8917775  192.73715151 167.81169823 169.30480802\n",
            " 176.79574169 163.92297735 167.08136421 174.76482161 165.04383561\n",
            " 177.57401902 166.56190911 168.91776148 171.39368069 177.98747136\n",
            " 170.49790413 157.70154153 181.45346147 166.17621928 148.69925898\n",
            " 172.560699   166.18524454 157.92833436 158.2899492  148.48890031\n",
            " 164.75475681 170.67343429 174.54200332 175.96620806 172.92947657\n",
            " 178.34334149 178.05956372 178.52540502 159.47434814 177.4297035\n",
            " 164.34753761 177.72116609 173.88468382 174.9130198  175.95215218\n",
            " 168.53287902 182.86667388 161.10961717 165.06342403 169.28318872\n",
            " 174.01828782 163.71695869 168.9344903  176.67614762 171.70207656\n",
            " 156.66664854 165.21741215 175.1374444  151.55901867 153.35297319\n",
            " 168.70464653 161.96155593 181.49307743 156.19844558 167.04342895\n",
            " 165.74865573 166.34386261 173.2681631  177.49963829 171.21748983\n",
            " 161.52930635 185.1327833  167.43384731 181.55988086 169.72755647]\n"
          ],
          "name": "stdout"
        }
      ]
    },
    {
      "cell_type": "code",
      "metadata": {
        "colab": {
          "base_uri": "https://localhost:8080/",
          "height": 266
        },
        "id": "rPySLHYpE43l",
        "outputId": "6c86ca3d-4e46-4e03-b692-0f57aec18816"
      },
      "source": [
        "import matplotlib.pyplot as plt\r\n",
        "import numpy as np\r\n",
        "x=np.random.normal(170,10,250)\r\n",
        "plt.hist(x)\r\n",
        "plt.show()"
      ],
      "execution_count": null,
      "outputs": [
        {
          "output_type": "display_data",
          "data": {
            "image/png": "[encoded data removed]",
            "text/plain": [
              "<Figure size 432x288 with 1 Axes>"
            ]
          },
          "metadata": {
            "tags": [],
            "needs_background": "light"
          }
        }
      ]
    },
    {
      "cell_type": "code",
      "metadata": {
        "colab": {
          "base_uri": "https://localhost:8080/",
          "height": 248
        },
        "id": "Hx-7MkqQE_Ii",
        "outputId": "da7e5d4b-7ef4-4e50-958b-690e2f4979be"
      },
      "source": [
        "import matplotlib.pyplot as plt\r\n",
        "import numpy as np\r\n",
        "y=np.array([35,25,25,15])\r\n",
        "plt.pie(y)\r\n",
        "plt.show()"
      ],
      "execution_count": null,
      "outputs": [
        {
          "output_type": "display_data",
          "data": {
            "image/png": "[encoded data removed]",
            "text/plain": [
              "<Figure size 432x288 with 1 Axes>"
            ]
          },
          "metadata": {
            "tags": []
          }
        }
      ]
    },
    {
      "cell_type": "code",
      "metadata": {
        "colab": {
          "base_uri": "https://localhost:8080/",
          "height": 248
        },
        "id": "c7sAELOWFCob",
        "outputId": "e9044180-85d6-4f9c-c6f4-c92b414899fe"
      },
      "source": [
        "import matplotlib.pyplot as plt\r\n",
        "import numpy as np\r\n",
        "y=np.array([35,25,25,15])\r\n",
        "mylabels=['mangoes','oranges','apple','banana']\r\n",
        "plt.pie(y, labels=mylabels)\r\n",
        "plt.show()"
      ],
      "execution_count": null,
      "outputs": [
        {
          "output_type": "display_data",
          "data": {
            "image/png": "[encoded data removed]",
            "text/plain": [
              "<Figure size 432x288 with 1 Axes>"
            ]
          },
          "metadata": {
            "tags": []
          }
        }
      ]
    },
    {
      "cell_type": "code",
      "metadata": {
        "colab": {
          "base_uri": "https://localhost:8080/",
          "height": 325
        },
        "id": "LXgZHnYYFGCV",
        "outputId": "560606f3-171c-471d-c1cc-daa38fc753ac"
      },
      "source": [
        "import matplotlib.pyplot as plt\r\n",
        "import numpy as np\r\n",
        "y=np.array([35,25,25,15])\r\n",
        "mylabels=['mangoes','oranges','apple','banana']\r\n",
        "myexplode=[0.2,0.5,1,0.7]\r\n",
        "plt.pie(y, labels=mylabels, explode=myexplode)\r\n",
        "plt.show()"
      ],
      "execution_count": null,
      "outputs": [
        {
          "output_type": "display_data",
          "data": {
            "image/png": "[encoded data removed]",
            "text/plain": [
              "<Figure size 432x288 with 1 Axes>"
            ]
          },
          "metadata": {
            "tags": []
          }
        }
      ]
    },
    {
      "cell_type": "code",
      "metadata": {
        "colab": {
          "base_uri": "https://localhost:8080/",
          "height": 248
        },
        "id": "wxNlGiLlFJsm",
        "outputId": "798d631a-53aa-4374-8034-6d2d713c12c1"
      },
      "source": [
        "import matplotlib.pyplot as plt\r\n",
        "import numpy as np\r\n",
        "y=np.array([35,25,25,15])\r\n",
        "mylabels=['mangoes','oranges','apple','banana']\r\n",
        "myexplode=[0.2,0,0,0.7]\r\n",
        "plt.pie(y, labels=mylabels, explode=myexplode, shadow=True)\r\n",
        "plt.show()"
      ],
      "execution_count": null,
      "outputs": [
        {
          "output_type": "display_data",
          "data": {
            "image/png": "[encoded data removed]",
            "text/plain": [
              "<Figure size 432x288 with 1 Axes>"
            ]
          },
          "metadata": {
            "tags": []
          }
        }
      ]
    },
    {
      "cell_type": "code",
      "metadata": {
        "colab": {
          "base_uri": "https://localhost:8080/",
          "height": 248
        },
        "id": "rOYwhXChFMsv",
        "outputId": "0fa7a574-8de9-424c-de07-2947219cf982"
      },
      "source": [
        "import matplotlib.pyplot as plt\r\n",
        "import numpy as np\r\n",
        "y=np.array([35,25,25,15])\r\n",
        "mylabels=['mangoes','oranges','apple','banana']\r\n",
        "myexplode=[0.2,0,0,0.7]\r\n",
        "plt.pie(y, labels=mylabels, explode=myexplode, shadow=True)\r\n",
        "plt.legend(title='Fruits-')\r\n",
        "plt.show()"
      ],
      "execution_count": null,
      "outputs": [
        {
          "output_type": "display_data",
          "data": {
            "image/png": "[encoded data removed]",
            "text/plain": [
              "<Figure size 432x288 with 1 Axes>"
            ]
          },
          "metadata": {
            "tags": []
          }
        }
      ]
    },
    {
      "cell_type": "code",
      "metadata": {
        "colab": {
          "base_uri": "https://localhost:8080/",
          "height": 248
        },
        "id": "HWbHIPTkFQTx",
        "outputId": "86b858c2-a249-4d0e-cb35-fc44a6dcc365"
      },
      "source": [
        "import matplotlib.pyplot as plt\r\n",
        "import numpy as np\r\n",
        "y=np.array([35,25,25,15])\r\n",
        "mylabels=['Bus','car','plane','bike']\r\n",
        "myexplode=[0,0.7,0,0.7]\r\n",
        "plt.pie(y, labels=mylabels, explode=myexplode, shadow=True)\r\n",
        "plt.legend(title='Vehicles-')\r\n",
        "plt.show()"
      ],
      "execution_count": null,
      "outputs": [
        {
          "output_type": "display_data",
          "data": {
            "image/png": "[encoded data removed]",
            "text/plain": [
              "<Figure size 432x288 with 1 Axes>"
            ]
          },
          "metadata": {
            "tags": []
          }
        }
      ]
    },
    {
      "cell_type": "code",
      "metadata": {
        "id": "Z7mLnEPbFgX-"
      },
      "source": [
        ""
      ],
      "execution_count": null,
      "outputs": []
    }
  ]
}