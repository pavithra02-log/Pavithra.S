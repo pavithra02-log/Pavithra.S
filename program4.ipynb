{
  "nbformat": 4,
  "nbformat_minor": 0,
  "metadata": {
    "colab": {
      "name": "program4.ipynb",
      "provenance": []
    },
    "kernelspec": {
      "name": "python3",
      "display_name": "Python 3"
    }
  },
  "cells": [
    {
      "cell_type": "markdown",
      "metadata": {
        "id": "xTgX26NfART5"
      },
      "source": [
        "Introduction to pandas"
      ]
    },
    {
      "cell_type": "code",
      "metadata": {
        "id": "KuPWeHkkAWlw",
        "colab": {
          "base_uri": "https://localhost:8080/"
        },
        "outputId": "ee741ad4-d75a-4af7-f434-a80edc9a86ce"
      },
      "source": [
        "# creating a simple python list\n",
        "a = [1,4,3,7,2,6,3]\n",
        "a"
      ],
      "execution_count": null,
      "outputs": [
        {
          "output_type": "execute_result",
          "data": {
            "text/plain": [
              "[1, 4, 3, 7, 2, 6, 3]"
            ]
          },
          "metadata": {
            "tags": []
          },
          "execution_count": 1
        }
      ]
    },
    {
      "cell_type": "code",
      "metadata": {
        "id": "Yp_TmrvSBAM5",
        "colab": {
          "base_uri": "https://localhost:8080/"
        },
        "outputId": "1701fd50-f1fe-4667-bd9c-1b616420f802"
      },
      "source": [
        "# now lets convert it into pandas objectcalled a series\n",
        "import pandas as pd \n",
        "a = pd.Series(a)\n",
        "print(a)"
      ],
      "execution_count": null,
      "outputs": [
        {
          "output_type": "stream",
          "text": [
            "0    1\n",
            "1    4\n",
            "2    3\n",
            "3    7\n",
            "4    2\n",
            "5    6\n",
            "6    3\n",
            "dtype: int64\n"
          ],
          "name": "stdout"
        }
      ]
    },
    {
      "cell_type": "code",
      "metadata": {
        "id": "l5i8WnoVBoCi",
        "colab": {
          "base_uri": "https://localhost:8080/"
        },
        "outputId": "667e7038-1a08-40e5-cfb5-f35d2c4702b7"
      },
      "source": [
        "type(a)"
      ],
      "execution_count": null,
      "outputs": [
        {
          "output_type": "execute_result",
          "data": {
            "text/plain": [
              "pandas.core.series.Series"
            ]
          },
          "metadata": {
            "tags": []
          },
          "execution_count": 5
        }
      ]
    },
    {
      "cell_type": "markdown",
      "metadata": {
        "id": "oZMLebTVCMWn"
      },
      "source": [
        "Simple series operations such as sorting,max,sum,count"
      ]
    },
    {
      "cell_type": "code",
      "metadata": {
        "id": "PDnq8xSECaVi",
        "colab": {
          "base_uri": "https://localhost:8080/"
        },
        "outputId": "4c39c26f-adf1-400d-cd90-74138b9340cf"
      },
      "source": [
        "a.max()"
      ],
      "execution_count": null,
      "outputs": [
        {
          "output_type": "execute_result",
          "data": {
            "text/plain": [
              "7"
            ]
          },
          "metadata": {
            "tags": []
          },
          "execution_count": 6
        }
      ]
    },
    {
      "cell_type": "code",
      "metadata": {
        "id": "d9z3TP8hChwj",
        "colab": {
          "base_uri": "https://localhost:8080/"
        },
        "outputId": "658654e5-b382-4756-be15-535b697e348c"
      },
      "source": [
        "a.min()"
      ],
      "execution_count": null,
      "outputs": [
        {
          "output_type": "execute_result",
          "data": {
            "text/plain": [
              "1"
            ]
          },
          "metadata": {
            "tags": []
          },
          "execution_count": 7
        }
      ]
    },
    {
      "cell_type": "code",
      "metadata": {
        "id": "xP7ZiCdWCpKI",
        "colab": {
          "base_uri": "https://localhost:8080/"
        },
        "outputId": "426856b7-f4c8-4e59-e796-73006e2778c8"
      },
      "source": [
        "a.sort_values()"
      ],
      "execution_count": null,
      "outputs": [
        {
          "output_type": "execute_result",
          "data": {
            "text/plain": [
              "0    1\n",
              "4    2\n",
              "2    3\n",
              "6    3\n",
              "1    4\n",
              "5    6\n",
              "3    7\n",
              "dtype: int64"
            ]
          },
          "metadata": {
            "tags": []
          },
          "execution_count": 8
        }
      ]
    },
    {
      "cell_type": "code",
      "metadata": {
        "id": "1I6ROXhPDEmA",
        "colab": {
          "base_uri": "https://localhost:8080/"
        },
        "outputId": "57e4b9b3-ecf9-4aee-a764-30bb23ca2503"
      },
      "source": [
        "a.sort_values(ascending=False)"
      ],
      "execution_count": null,
      "outputs": [
        {
          "output_type": "execute_result",
          "data": {
            "text/plain": [
              "3    7\n",
              "5    6\n",
              "1    4\n",
              "6    3\n",
              "2    3\n",
              "4    2\n",
              "0    1\n",
              "dtype: int64"
            ]
          },
          "metadata": {
            "tags": []
          },
          "execution_count": 9
        }
      ]
    },
    {
      "cell_type": "code",
      "metadata": {
        "id": "XifB1SvnEXTO"
      },
      "source": [
        "a.sort_values(ascending=False,inplace=True)"
      ],
      "execution_count": null,
      "outputs": []
    },
    {
      "cell_type": "code",
      "metadata": {
        "id": "bfs97PH0Es9T",
        "colab": {
          "base_uri": "https://localhost:8080/"
        },
        "outputId": "cc18b1a7-0e46-4b59-9e57-b0b4801969c8"
      },
      "source": [
        "a.value_counts()"
      ],
      "execution_count": null,
      "outputs": [
        {
          "output_type": "execute_result",
          "data": {
            "text/plain": [
              "3    2\n",
              "7    1\n",
              "6    1\n",
              "4    1\n",
              "2    1\n",
              "1    1\n",
              "dtype: int64"
            ]
          },
          "metadata": {
            "tags": []
          },
          "execution_count": 11
        }
      ]
    },
    {
      "cell_type": "code",
      "metadata": {
        "id": "6841a3QGE5aI",
        "colab": {
          "base_uri": "https://localhost:8080/"
        },
        "outputId": "310fff57-226c-46ef-f804-a06aca143917"
      },
      "source": [
        "a[:1]"
      ],
      "execution_count": null,
      "outputs": [
        {
          "output_type": "execute_result",
          "data": {
            "text/plain": [
              "3    7\n",
              "dtype: int64"
            ]
          },
          "metadata": {
            "tags": []
          },
          "execution_count": 12
        }
      ]
    },
    {
      "cell_type": "code",
      "metadata": {
        "id": "_tDO-__JE-ZV",
        "colab": {
          "base_uri": "https://localhost:8080/"
        },
        "outputId": "9b85f35c-19d7-4126-f844-9836693f3472"
      },
      "source": [
        "b = [2,4,5,6,7,8,9,3,11,10,14,18]\n",
        "b"
      ],
      "execution_count": null,
      "outputs": [
        {
          "output_type": "execute_result",
          "data": {
            "text/plain": [
              "[2, 4, 5, 6, 7, 8, 9, 3, 11, 10, 14, 18]"
            ]
          },
          "metadata": {
            "tags": []
          },
          "execution_count": 14
        }
      ]
    },
    {
      "cell_type": "code",
      "metadata": {
        "id": "NJHPC0SHFbO7",
        "colab": {
          "base_uri": "https://localhost:8080/"
        },
        "outputId": "ac6dc0b0-1ccb-403c-a76d-3a6a97b47131"
      },
      "source": [
        "b = pd.Series(b)\n",
        "b"
      ],
      "execution_count": null,
      "outputs": [
        {
          "output_type": "execute_result",
          "data": {
            "text/plain": [
              "0      2\n",
              "1      4\n",
              "2      5\n",
              "3      6\n",
              "4      7\n",
              "5      8\n",
              "6      9\n",
              "7      3\n",
              "8     11\n",
              "9     10\n",
              "10    14\n",
              "11    18\n",
              "dtype: int64"
            ]
          },
          "metadata": {
            "tags": []
          },
          "execution_count": 16
        }
      ]
    },
    {
      "cell_type": "code",
      "metadata": {
        "id": "DGd9Fb-lFtIQ",
        "colab": {
          "base_uri": "https://localhost:8080/"
        },
        "outputId": "adfa326f-dff8-4757-bdec-edf4e7b95300"
      },
      "source": [
        "type(b)"
      ],
      "execution_count": null,
      "outputs": [
        {
          "output_type": "execute_result",
          "data": {
            "text/plain": [
              "pandas.core.series.Series"
            ]
          },
          "metadata": {
            "tags": []
          },
          "execution_count": 17
        }
      ]
    },
    {
      "cell_type": "code",
      "metadata": {
        "id": "T23bGS-4F0n0",
        "colab": {
          "base_uri": "https://localhost:8080/"
        },
        "outputId": "ac40733e-c856-4b04-f267-5f2ec50cf931"
      },
      "source": [
        "b.max()"
      ],
      "execution_count": null,
      "outputs": [
        {
          "output_type": "execute_result",
          "data": {
            "text/plain": [
              "18"
            ]
          },
          "metadata": {
            "tags": []
          },
          "execution_count": 18
        }
      ]
    },
    {
      "cell_type": "code",
      "metadata": {
        "id": "6AFyCevbF5By",
        "colab": {
          "base_uri": "https://localhost:8080/"
        },
        "outputId": "a8558d03-6644-4739-820a-231c45f08bc6"
      },
      "source": [
        "b.min()"
      ],
      "execution_count": null,
      "outputs": [
        {
          "output_type": "execute_result",
          "data": {
            "text/plain": [
              "2"
            ]
          },
          "metadata": {
            "tags": []
          },
          "execution_count": 19
        }
      ]
    },
    {
      "cell_type": "code",
      "metadata": {
        "id": "q0bin_foF6Yb",
        "colab": {
          "base_uri": "https://localhost:8080/"
        },
        "outputId": "70e22e34-11c2-4b97-8ce3-e232bbb43348"
      },
      "source": [
        "b.sort_values()"
      ],
      "execution_count": null,
      "outputs": [
        {
          "output_type": "execute_result",
          "data": {
            "text/plain": [
              "0      2\n",
              "7      3\n",
              "1      4\n",
              "2      5\n",
              "3      6\n",
              "4      7\n",
              "5      8\n",
              "6      9\n",
              "9     10\n",
              "8     11\n",
              "10    14\n",
              "11    18\n",
              "dtype: int64"
            ]
          },
          "metadata": {
            "tags": []
          },
          "execution_count": 20
        }
      ]
    },
    {
      "cell_type": "code",
      "metadata": {
        "id": "baHt_pkSF_8Q",
        "colab": {
          "base_uri": "https://localhost:8080/"
        },
        "outputId": "a64b43ee-60fb-4834-eff4-85593624d7eb"
      },
      "source": [
        "b.sort_values(ascending=False)"
      ],
      "execution_count": null,
      "outputs": [
        {
          "output_type": "execute_result",
          "data": {
            "text/plain": [
              "11    18\n",
              "10    14\n",
              "8     11\n",
              "9     10\n",
              "6      9\n",
              "5      8\n",
              "4      7\n",
              "3      6\n",
              "2      5\n",
              "1      4\n",
              "7      3\n",
              "0      2\n",
              "dtype: int64"
            ]
          },
          "metadata": {
            "tags": []
          },
          "execution_count": 21
        }
      ]
    },
    {
      "cell_type": "code",
      "metadata": {
        "id": "FNpfjysoGJk0"
      },
      "source": [
        "b.sort_values(ascending=False,inplace=True)"
      ],
      "execution_count": null,
      "outputs": []
    },
    {
      "cell_type": "code",
      "metadata": {
        "id": "BjkwQY3EGREN",
        "colab": {
          "base_uri": "https://localhost:8080/"
        },
        "outputId": "a45221af-93dd-47dc-a243-3eb9ed816f97"
      },
      "source": [
        "b.value_counts"
      ],
      "execution_count": null,
      "outputs": [
        {
          "output_type": "execute_result",
          "data": {
            "text/plain": [
              "<bound method IndexOpsMixin.value_counts of 11    18\n",
              "10    14\n",
              "8     11\n",
              "9     10\n",
              "6      9\n",
              "5      8\n",
              "4      7\n",
              "3      6\n",
              "2      5\n",
              "1      4\n",
              "7      3\n",
              "0      2\n",
              "dtype: int64>"
            ]
          },
          "metadata": {
            "tags": []
          },
          "execution_count": 24
        }
      ]
    },
    {
      "cell_type": "code",
      "metadata": {
        "id": "o5AfXn0cGYky",
        "colab": {
          "base_uri": "https://localhost:8080/"
        },
        "outputId": "b6384788-1fb4-47a7-d3a8-626b3e320947"
      },
      "source": [
        "b[:2]"
      ],
      "execution_count": null,
      "outputs": [
        {
          "output_type": "execute_result",
          "data": {
            "text/plain": [
              "11    18\n",
              "10    14\n",
              "dtype: int64"
            ]
          },
          "metadata": {
            "tags": []
          },
          "execution_count": 25
        }
      ]
    },
    {
      "cell_type": "code",
      "metadata": {
        "id": "mof0h-nRGd27"
      },
      "source": [
        "data = {\n",
        "    'apples':[3,2,0,1],\n",
        "    'orange':[3,2,0,1]\n",
        "    }"
      ],
      "execution_count": null,
      "outputs": []
    },
    {
      "cell_type": "code",
      "metadata": {
        "id": "x_vKYdHcHVU-",
        "colab": {
          "base_uri": "https://localhost:8080/",
          "height": 173
        },
        "outputId": "fbb4a09b-9351-4a8e-a00a-86c9812a4258"
      },
      "source": [
        "purchases = pd.DataFrame(data)\n",
        "purchases"
      ],
      "execution_count": null,
      "outputs": [
        {
          "output_type": "execute_result",
          "data": {
            "text/html": [
              "<div>\n",
              "<style scoped>\n",
              "    .dataframe tbody tr th:only-of-type {\n",
              "        vertical-align: middle;\n",
              "    }\n",
              "\n",
              "    .dataframe tbody tr th {\n",
              "        vertical-align: top;\n",
              "    }\n",
              "\n",
              "    .dataframe thead th {\n",
              "        text-align: right;\n",
              "    }\n",
              "</style>\n",
              "<table border=\"1\" class=\"dataframe\">\n",
              "  <thead>\n",
              "    <tr style=\"text-align: right;\">\n",
              "      <th></th>\n",
              "      <th>apples</th>\n",
              "      <th>orange</th>\n",
              "    </tr>\n",
              "  </thead>\n",
              "  <tbody>\n",
              "    <tr>\n",
              "      <th>0</th>\n",
              "      <td>3</td>\n",
              "      <td>3</td>\n",
              "    </tr>\n",
              "    <tr>\n",
              "      <th>1</th>\n",
              "      <td>2</td>\n",
              "      <td>2</td>\n",
              "    </tr>\n",
              "    <tr>\n",
              "      <th>2</th>\n",
              "      <td>0</td>\n",
              "      <td>0</td>\n",
              "    </tr>\n",
              "    <tr>\n",
              "      <th>3</th>\n",
              "      <td>1</td>\n",
              "      <td>1</td>\n",
              "    </tr>\n",
              "  </tbody>\n",
              "</table>\n",
              "</div>"
            ],
            "text/plain": [
              "   apples  orange\n",
              "0       3       3\n",
              "1       2       2\n",
              "2       0       0\n",
              "3       1       1"
            ]
          },
          "metadata": {
            "tags": []
          },
          "execution_count": 28
        }
      ]
    },
    {
      "cell_type": "code",
      "metadata": {
        "id": "aB9PqPHzIoLB",
        "colab": {
          "base_uri": "https://localhost:8080/",
          "height": 173
        },
        "outputId": "75fe5ad4-e7fd-4cd8-f66d-c74d90cbd5e6"
      },
      "source": [
        "purchases = pd.DataFrame(data, index=['Pavi','Logith','Megha','Prem'])\n",
        "purchases"
      ],
      "execution_count": null,
      "outputs": [
        {
          "output_type": "execute_result",
          "data": {
            "text/html": [
              "<div>\n",
              "<style scoped>\n",
              "    .dataframe tbody tr th:only-of-type {\n",
              "        vertical-align: middle;\n",
              "    }\n",
              "\n",
              "    .dataframe tbody tr th {\n",
              "        vertical-align: top;\n",
              "    }\n",
              "\n",
              "    .dataframe thead th {\n",
              "        text-align: right;\n",
              "    }\n",
              "</style>\n",
              "<table border=\"1\" class=\"dataframe\">\n",
              "  <thead>\n",
              "    <tr style=\"text-align: right;\">\n",
              "      <th></th>\n",
              "      <th>apples</th>\n",
              "      <th>orange</th>\n",
              "    </tr>\n",
              "  </thead>\n",
              "  <tbody>\n",
              "    <tr>\n",
              "      <th>Pavi</th>\n",
              "      <td>3</td>\n",
              "      <td>3</td>\n",
              "    </tr>\n",
              "    <tr>\n",
              "      <th>Logith</th>\n",
              "      <td>2</td>\n",
              "      <td>2</td>\n",
              "    </tr>\n",
              "    <tr>\n",
              "      <th>Megha</th>\n",
              "      <td>0</td>\n",
              "      <td>0</td>\n",
              "    </tr>\n",
              "    <tr>\n",
              "      <th>Prem</th>\n",
              "      <td>1</td>\n",
              "      <td>1</td>\n",
              "    </tr>\n",
              "  </tbody>\n",
              "</table>\n",
              "</div>"
            ],
            "text/plain": [
              "        apples  orange\n",
              "Pavi         3       3\n",
              "Logith       2       2\n",
              "Megha        0       0\n",
              "Prem         1       1"
            ]
          },
          "metadata": {
            "tags": []
          },
          "execution_count": 29
        }
      ]
    },
    {
      "cell_type": "code",
      "metadata": {
        "id": "8Pm20o63Jef3",
        "colab": {
          "base_uri": "https://localhost:8080/"
        },
        "outputId": "315972a4-37f0-488f-b182-bdff95feccfc"
      },
      "source": [
        "purchases.loc['Pavi']"
      ],
      "execution_count": null,
      "outputs": [
        {
          "output_type": "execute_result",
          "data": {
            "text/plain": [
              "apples    3\n",
              "orange    3\n",
              "Name: Pavi, dtype: int64"
            ]
          },
          "metadata": {
            "tags": []
          },
          "execution_count": 30
        }
      ]
    },
    {
      "cell_type": "code",
      "metadata": {
        "id": "Qq6gPTupJnd1"
      },
      "source": [
        ""
      ],
      "execution_count": null,
      "outputs": []
    }
  ]
}